{
  "nbformat": 4,
  "nbformat_minor": 0,
  "metadata": {
    "colab": {
      "name": "Exploratory_Data_Analysis_Template.ipynb",
      "provenance": [],
      "collapsed_sections": []
    },
    "kernelspec": {
      "name": "python3",
      "display_name": "Python 3"
    }
  },
  "cells": [
    {
      "cell_type": "markdown",
      "metadata": {
        "id": "lsDrM8l-04op"
      },
      "source": [
        "# **Objective**\n",
        "What is the objective or goal that you are trying to accomplish? What is the decision that you must make?"
      ]
    },
    {
      "cell_type": "markdown",
      "metadata": {
        "id": "X0v9yK6H36Jt"
      },
      "source": [
        "\n",
        "\n",
        "1.   Realize a profiling of students in the considered universities center.\n",
        "2.   Setup a machine learning model that help to indicate to a student, according to his background,\n",
        "where it should to enroll to maximize her chance to join a quasi-free university.\n",
        "\n"
      ]
    },
    {
      "cell_type": "markdown",
      "metadata": {
        "id": "8Fv7ykXU0_I5"
      },
      "source": [
        "# **Hypothesis: Research Question?**\n",
        " What is the question that you would like to answer in order to make a decision."
      ]
    },
    {
      "cell_type": "markdown",
      "metadata": {
        "id": "CHcWDMhe5gu5"
      },
      "source": [
        "\n",
        "\n",
        "1.   What are the main differences betwenn the students of the 3 considered universities\n",
        "\n",
        "> *   Where they come from\n",
        "> *   What is their classic background\n",
        "> *   If needed, the differences betwenn students in the diffents state university faculty\n",
        "\n",
        "\n",
        "\n",
        "\n",
        "\n",
        "2.   how many universities have the applicants tried to integrate?\n",
        "3.   The rate of admission according to the number of entities the applicants enrolled.\n",
        "\n",
        "\n"
      ]
    },
    {
      "cell_type": "markdown",
      "metadata": {
        "id": "_dnoqMdfBmW8"
      },
      "source": [
        "# **PACKAGES IMPORT**"
      ]
    },
    {
      "cell_type": "code",
      "metadata": {
        "id": "PsphUxKnBsCT"
      },
      "source": [
        "import pandas as pd\n",
        "import numpy as np\n",
        "import matplotlib.pyplot as plt\n",
        "import seaborn as sns\n",
        "from scipy import stats\n",
        "from wordcloud import WordCloud\n",
        "import statsmodels\n",
        "from sklearn import metrics\n",
        "#from matplotlib import cm\n",
        "import matplotlib.colors as mcolors\n"
      ],
      "execution_count": 593,
      "outputs": []
    },
    {
      "cell_type": "markdown",
      "metadata": {
        "id": "9pBreNBF1FgG"
      },
      "source": [
        "# **Data Source**\n",
        "Explain where did you get the data. How can you trust this data? Who produced this data and what were their motiviations?\n"
      ]
    },
    {
      "cell_type": "markdown",
      "metadata": {
        "id": "TvWOPCjj9ZBJ"
      },
      "source": [
        "I get data from actual student. The survey is electronically administered to the student of the entities concerned.\n",
        "* Link to the survey : https://ee.kobotoolbox.org/single/b54ae922228003895f086b690d3c2a78\n",
        "* Link to the data : *not yet available*\n",
        "\n",
        "\n"
      ]
    },
    {
      "cell_type": "code",
      "metadata": {
        "colab": {
          "base_uri": "https://localhost:8080/"
        },
        "id": "vy57xFWICKf-",
        "outputId": "9ed89342-e290-44ab-d9f5-f90fcf36482e"
      },
      "source": [
        "from google.colab import drive\n",
        "drive.mount('/content/drive')"
      ],
      "execution_count": 594,
      "outputs": [
        {
          "output_type": "stream",
          "name": "stdout",
          "text": [
            "Drive already mounted at /content/drive; to attempt to forcibly remount, call drive.mount(\"/content/drive\", force_remount=True).\n"
          ]
        }
      ]
    },
    {
      "cell_type": "code",
      "metadata": {
        "id": "CNFnyfmWDon4"
      },
      "source": [
        "fulldf = pd.read_excel(\"/content/drive/MyDrive/DABootcamp/FINAL PROJECT AA/data.xlsx\")"
      ],
      "execution_count": 595,
      "outputs": []
    },
    {
      "cell_type": "code",
      "metadata": {
        "colab": {
          "base_uri": "https://localhost:8080/"
        },
        "id": "_r_ztZB_EKc1",
        "outputId": "4346cbe5-0acf-4c0d-ceea-7ba20387481e"
      },
      "source": [
        "print(fulldf.head())\n",
        "columns = fulldf.columns.to_list()\n",
        "for el in columns:\n",
        "  print(el)"
      ],
      "execution_count": 596,
      "outputs": [
        {
          "output_type": "stream",
          "name": "stdout",
          "text": [
            "  consent repondan      sexe  ...  _submitted_by _tags  _index\n",
            "0     Oui      Oui  Masculin  ...            NaN   NaN       1\n",
            "1     Oui      Oui  Masculin  ...            NaN   NaN       2\n",
            "2     Oui      Oui  Masculin  ...            NaN   NaN       3\n",
            "3     Oui      Oui   Feminin  ...            NaN   NaN       4\n",
            "4     Oui      Oui  Masculin  ...            NaN   NaN       5\n",
            "\n",
            "[5 rows x 107 columns]\n",
            "consent\n",
            "repondan\n",
            "sexe\n",
            "age\n",
            "rcom\n",
            "rcom_other\n",
            "bdep\n",
            "bcom\n",
            "pc\n",
            "dep_terminal\n",
            "type_school_f\n",
            "type_school_f_other\n",
            "type_school_t\n",
            "type_school_t_other\n",
            "system\n",
            "section\n",
            "filiere\n",
            "love_sect\n",
            "let_level\n",
            "moyenne\n",
            "prefac\n",
            "prefac_org\n",
            "prefac_org_other\n",
            "inscri\n",
            "inscri/ueh\n",
            "inscri/ctpea\n",
            "inscri/enst\n",
            "ueh_fac\n",
            "ueh_fac/ens\n",
            "ueh_fac/famv\n",
            "ueh_fac/fasch\n",
            "ueh_fac/fds\n",
            "ueh_fac/fdse\n",
            "ueh_fac/fe\n",
            "ueh_fac/fla\n",
            "ueh_fac/fmp\n",
            "ueh_fac/fo\n",
            "ueh_fac/fdsegch\n",
            "ueh_fac/ierah\n",
            "ueh_fac/inaghei\n",
            "raison_famv\n",
            "raison_fasch\n",
            "raison_fds\n",
            "raison_fdse\n",
            "raison_fe\n",
            "raison_fla\n",
            "raison_fmp\n",
            "raison_fo\n",
            "raison_fdsegch\n",
            "raison_ierah\n",
            "raison_inaghei\n",
            "raison_ctpea\n",
            "raison_enst\n",
            "raison_ens\n",
            "admission\n",
            "admission/ueh\n",
            "admission/ctpea\n",
            "admission/enst\n",
            "ueh_fac_admission\n",
            "ueh_fac_admission/ens\n",
            "ueh_fac_admission/famv\n",
            "ueh_fac_admission/fasch\n",
            "ueh_fac_admission/fds\n",
            "ueh_fac_admission/fdse\n",
            "ueh_fac_admission/fe\n",
            "ueh_fac_admission/fla\n",
            "ueh_fac_admission/fmp\n",
            "ueh_fac_admission/fo\n",
            "ueh_fac_admission/fdsegch\n",
            "ueh_fac_admission/ierah\n",
            "ueh_fac_admission/inaghei\n",
            "paf\n",
            "nb_sup1\n",
            "nb_univ\n",
            "univ_1\n",
            "nom_univ1\n",
            "option1\n",
            "fac1\n",
            "anne1\n",
            "nb_reprises\n",
            "duree\n",
            "univ_2\n",
            "nom_univ2\n",
            "nonuniv22\n",
            "option2\n",
            "fac2\n",
            "anne2\n",
            "nb_reprises2\n",
            "duree2\n",
            "family\n",
            "family_mono\n",
            "money\n",
            "scolarite_parent\n",
            "scolarite_paid\n",
            "scolarite_paid_other\n",
            "parent_revenu\n",
            "left\n",
            "note_fin\n",
            "_id\n",
            "_uuid\n",
            "_submission_time\n",
            "_validation_status\n",
            "_notes\n",
            "_status\n",
            "_submitted_by\n",
            "_tags\n",
            "_index\n"
          ]
        }
      ]
    },
    {
      "cell_type": "markdown",
      "metadata": {
        "id": "47SPMDZuERl4"
      },
      "source": [
        "# **LIST AND FUNCTIONS UTILITIES**"
      ]
    },
    {
      "cell_type": "markdown",
      "metadata": {
        "id": "92GI00Z0ElGn"
      },
      "source": [
        "Creating an final output with insights\n"
      ]
    },
    {
      "cell_type": "code",
      "metadata": {
        "id": "zTNa_GPPEuAH"
      },
      "source": [
        "insights = \"\"\n",
        "#variable for the modele trainning\n",
        "var_for_modeling = []"
      ],
      "execution_count": 597,
      "outputs": []
    },
    {
      "cell_type": "code",
      "metadata": {
        "id": "aCdP7sDGRZMV"
      },
      "source": [
        "# import variable name and labels name (in English)\n",
        "\n",
        "#fulllabels = pd.read_excel(\".../\")\n",
        "\n",
        "univ = fulldf['nom_univ1'].unique()\n",
        "filier = fulldf.filiere.unique()"
      ],
      "execution_count": 598,
      "outputs": []
    },
    {
      "cell_type": "code",
      "metadata": {
        "colab": {
          "base_uri": "https://localhost:8080/"
        },
        "id": "3hud5h4lI_sq",
        "outputId": "4e37f6b9-0d72-4e15-897b-181ebd95b023"
      },
      "source": [
        "univ"
      ],
      "execution_count": 599,
      "outputs": [
        {
          "output_type": "execute_result",
          "data": {
            "text/plain": [
              "array([\"UEH (Université d'Etat d'Haiti)\",\n",
              "       \"CTPEA (Centre de Technique de Planification et d'Economie Appliquée)\",\n",
              "       'ENST (Ecole Nationale Supérieure de Technologie)', nan],\n",
              "      dtype=object)"
            ]
          },
          "metadata": {},
          "execution_count": 599
        }
      ]
    },
    {
      "cell_type": "code",
      "metadata": {
        "colab": {
          "base_uri": "https://localhost:8080/"
        },
        "id": "viMkaaK2eXdK",
        "outputId": "57e4bca8-9cd7-47fe-8830-9728233cf358"
      },
      "source": [
        "filier"
      ],
      "execution_count": 600,
      "outputs": [
        {
          "output_type": "execute_result",
          "data": {
            "text/plain": [
              "array(['SVT (Science de la Vie et de la Terre)', nan,\n",
              "       'SMP (Science Mathématique et Physique)',\n",
              "       'SES (Sciences Economiques et Sociales)'], dtype=object)"
            ]
          },
          "metadata": {},
          "execution_count": 600
        }
      ]
    },
    {
      "cell_type": "code",
      "metadata": {
        "id": "HWnyLRSMJTcZ"
      },
      "source": [
        "nomUnivDict = {\"UEH (Université d'Etat d'Haiti)\": \"UEH\",\n",
        "               \"CTPEA (Centre de Technique de Planification et d'Economie Appliquée)\": \"CTPEA\",\n",
        "               'ENST (Ecole Nationale Supérieure de Technologie)': \"ENST\"}"
      ],
      "execution_count": 601,
      "outputs": []
    },
    {
      "cell_type": "code",
      "metadata": {
        "id": "_76NUt35ed6K"
      },
      "source": [
        "nomFiliere = {'SVT (Science de la Vie et de la Terre)': \"SVT\",\n",
        "              'SMP (Science Mathématique et Physique)': \"SMP\",\n",
        "              'SES (Sciences Economiques et Sociales)': \"SES\"}"
      ],
      "execution_count": 602,
      "outputs": []
    },
    {
      "cell_type": "code",
      "metadata": {
        "id": "_xreo-xJJGBS"
      },
      "source": [
        "fulldf['nom_univ1'] = fulldf['nom_univ1'].replace(nomUnivDict)"
      ],
      "execution_count": 603,
      "outputs": []
    },
    {
      "cell_type": "code",
      "metadata": {
        "id": "rtQef74GetWb"
      },
      "source": [
        "fulldf['filiere'] = fulldf['filiere'].replace(nomFiliere)"
      ],
      "execution_count": 604,
      "outputs": []
    },
    {
      "cell_type": "code",
      "metadata": {
        "id": "ommKJK2bb553"
      },
      "source": [
        "list_for_ml = ['sexe', 'dep_terminal', 'type_school_f', 'type_school_t', 'section', 'filiere', 'let_level', 'prefac', 'prefac_org', 'parent_revenu', 'let_level',]\n"
      ],
      "execution_count": 605,
      "outputs": []
    },
    {
      "cell_type": "markdown",
      "metadata": {
        "id": "E3eRYDvHEaAP"
      },
      "source": [
        "## **Utilities for data visualization**"
      ]
    },
    {
      "cell_type": "code",
      "metadata": {
        "id": "Mxwc_I7lLhqL"
      },
      "source": [
        "# Functions utilities\n",
        "\n",
        "def PieChart(data, tit):\n",
        "\n",
        "  data = data.value_counts(normalize=True)\n",
        "  length = len(data)\n",
        "  my_explode = tuple([0.05]*length)\n",
        "  plt.pie(data, labels=data.index, autopct='%.0f%%', shadow=True, explode=my_explode, )\n",
        "  plt.title(tit)\n",
        "  if length>3:\n",
        "    plt.legend()\n",
        "  else:\n",
        "    plt.pie(data, autopct='%.0f%%', shadow=True, explode=my_explode)\n",
        "  plt.savefig(tit+\".png\")\n",
        "  plt.show()\n",
        "\n",
        "def custo(x):\n",
        "    \"\"\"\n",
        "    This function is created in order to make univariate analysis\n",
        "    It creates barblot to show distribution of customer from a frequenies table\n",
        "\n",
        "    \"\"\"\n",
        "    # Frequences table\n",
        "    custo = pd.DataFrame(data.groupby(x)[['repondan']].count())\n",
        "\n",
        "    ax1 = plt.figure(figsize=(10,8))\n",
        "   \n",
        "    plt.barh(custo.index, custo['repondan'] ,edgecolor=\"black\", color = ['slateblue'],)\n",
        "\n",
        "    \n",
        "    plt.title('Distribution of customers by '+ x,size=12)\n",
        "\n",
        "    # Show the proportions\n",
        "    for i in range(len(custo['repondan'])):\n",
        "      plt.text(i,2, str(round(custo['repondan'].values[i]/data.shape[0], 2))+\"%\", fontsize =12, horizontalalignment='center', verticalalignment='top')\n",
        "    \n",
        "    #Save the graph\n",
        "    plt.savefig('Distribution of customers by '+ x + \".png\")\n",
        "    return custo\n",
        "\n",
        "\n"
      ],
      "execution_count": 606,
      "outputs": []
    },
    {
      "cell_type": "markdown",
      "metadata": {
        "id": "5FGT5WQv-7wo"
      },
      "source": [
        "# **Data Cleaning**\n",
        "\n",
        "No data cleanning really needed, but some check is done here for the constraint we forget to put in the survey conception."
      ]
    },
    {
      "cell_type": "markdown",
      "metadata": {
        "id": "7p7dSMHfFXUJ"
      },
      "source": [
        "## **Analytical Transformations**\n",
        "Perform any transformation on the columns in the dataset to enable further analysis."
      ]
    },
    {
      "cell_type": "code",
      "metadata": {
        "id": "Pzmf2BKvAg1g"
      },
      "source": [
        "# if the year indicated by the student is higher than the duration of his study,\n",
        "# it is considered that the student is in his last year\n",
        "fulldf['anne1'] = np.where(fulldf['anne1'] < fulldf['duree'], fulldf['duree'], fulldf['anne1'])\n",
        "\n",
        "\n",
        "# removing the metadata\n",
        "fulldf = fulldf.iloc[:, :-10]\n"
      ],
      "execution_count": 607,
      "outputs": []
    },
    {
      "cell_type": "code",
      "metadata": {
        "id": "Dxr3bnbUiCXm"
      },
      "source": [
        "# For logistic regression\n",
        "\n",
        "fulldf['yCTPEA'] = fulldf.admission.apply(lambda x : 1 if x == \"CTPEA\" else 0)\n",
        "fulldf['yENST'] = fulldf.admission.apply(lambda x : 1 if x == \"CTPEA\" else 0)\n",
        "fulldf['yUEH'] = fulldf.admission.apply(lambda x : 1 if x == \"CTPEA\" else 0)\n",
        "\n",
        "\n",
        "fulldf['depdiff'] = fulldf.bdep==fulldf.dep_terminal"
      ],
      "execution_count": 608,
      "outputs": []
    },
    {
      "cell_type": "code",
      "metadata": {
        "colab": {
          "base_uri": "https://localhost:8080/"
        },
        "id": "tPUSYEErM2NE",
        "outputId": "5d5af822-bd25-47ce-f962-3eeb969b6d77"
      },
      "source": [
        "fulldf.columns.to_list()"
      ],
      "execution_count": 609,
      "outputs": [
        {
          "output_type": "execute_result",
          "data": {
            "text/plain": [
              "['consent',\n",
              " 'repondan',\n",
              " 'sexe',\n",
              " 'age',\n",
              " 'rcom',\n",
              " 'rcom_other',\n",
              " 'bdep',\n",
              " 'bcom',\n",
              " 'pc',\n",
              " 'dep_terminal',\n",
              " 'type_school_f',\n",
              " 'type_school_f_other',\n",
              " 'type_school_t',\n",
              " 'type_school_t_other',\n",
              " 'system',\n",
              " 'section',\n",
              " 'filiere',\n",
              " 'love_sect',\n",
              " 'let_level',\n",
              " 'moyenne',\n",
              " 'prefac',\n",
              " 'prefac_org',\n",
              " 'prefac_org_other',\n",
              " 'inscri',\n",
              " 'inscri/ueh',\n",
              " 'inscri/ctpea',\n",
              " 'inscri/enst',\n",
              " 'ueh_fac',\n",
              " 'ueh_fac/ens',\n",
              " 'ueh_fac/famv',\n",
              " 'ueh_fac/fasch',\n",
              " 'ueh_fac/fds',\n",
              " 'ueh_fac/fdse',\n",
              " 'ueh_fac/fe',\n",
              " 'ueh_fac/fla',\n",
              " 'ueh_fac/fmp',\n",
              " 'ueh_fac/fo',\n",
              " 'ueh_fac/fdsegch',\n",
              " 'ueh_fac/ierah',\n",
              " 'ueh_fac/inaghei',\n",
              " 'raison_famv',\n",
              " 'raison_fasch',\n",
              " 'raison_fds',\n",
              " 'raison_fdse',\n",
              " 'raison_fe',\n",
              " 'raison_fla',\n",
              " 'raison_fmp',\n",
              " 'raison_fo',\n",
              " 'raison_fdsegch',\n",
              " 'raison_ierah',\n",
              " 'raison_inaghei',\n",
              " 'raison_ctpea',\n",
              " 'raison_enst',\n",
              " 'raison_ens',\n",
              " 'admission',\n",
              " 'admission/ueh',\n",
              " 'admission/ctpea',\n",
              " 'admission/enst',\n",
              " 'ueh_fac_admission',\n",
              " 'ueh_fac_admission/ens',\n",
              " 'ueh_fac_admission/famv',\n",
              " 'ueh_fac_admission/fasch',\n",
              " 'ueh_fac_admission/fds',\n",
              " 'ueh_fac_admission/fdse',\n",
              " 'ueh_fac_admission/fe',\n",
              " 'ueh_fac_admission/fla',\n",
              " 'ueh_fac_admission/fmp',\n",
              " 'ueh_fac_admission/fo',\n",
              " 'ueh_fac_admission/fdsegch',\n",
              " 'ueh_fac_admission/ierah',\n",
              " 'ueh_fac_admission/inaghei',\n",
              " 'paf',\n",
              " 'nb_sup1',\n",
              " 'nb_univ',\n",
              " 'univ_1',\n",
              " 'nom_univ1',\n",
              " 'option1',\n",
              " 'fac1',\n",
              " 'anne1',\n",
              " 'nb_reprises',\n",
              " 'duree',\n",
              " 'univ_2',\n",
              " 'nom_univ2',\n",
              " 'nonuniv22',\n",
              " 'option2',\n",
              " 'fac2',\n",
              " 'anne2',\n",
              " 'nb_reprises2',\n",
              " 'duree2',\n",
              " 'family',\n",
              " 'family_mono',\n",
              " 'money',\n",
              " 'scolarite_parent',\n",
              " 'scolarite_paid',\n",
              " 'scolarite_paid_other',\n",
              " 'parent_revenu',\n",
              " 'left',\n",
              " 'yCTPEA',\n",
              " 'yENST',\n",
              " 'yUEH',\n",
              " 'depdiff']"
            ]
          },
          "metadata": {},
          "execution_count": 609
        }
      ]
    },
    {
      "cell_type": "code",
      "metadata": {
        "colab": {
          "base_uri": "https://localhost:8080/",
          "height": 637
        },
        "id": "G5A6nrvC4FHr",
        "outputId": "aa9b611b-b315-42d9-da5c-0fe474c494eb"
      },
      "source": [
        "fulldf.head()"
      ],
      "execution_count": 610,
      "outputs": [
        {
          "output_type": "execute_result",
          "data": {
            "text/html": [
              "<div>\n",
              "<style scoped>\n",
              "    .dataframe tbody tr th:only-of-type {\n",
              "        vertical-align: middle;\n",
              "    }\n",
              "\n",
              "    .dataframe tbody tr th {\n",
              "        vertical-align: top;\n",
              "    }\n",
              "\n",
              "    .dataframe thead th {\n",
              "        text-align: right;\n",
              "    }\n",
              "</style>\n",
              "<table border=\"1\" class=\"dataframe\">\n",
              "  <thead>\n",
              "    <tr style=\"text-align: right;\">\n",
              "      <th></th>\n",
              "      <th>consent</th>\n",
              "      <th>repondan</th>\n",
              "      <th>sexe</th>\n",
              "      <th>age</th>\n",
              "      <th>rcom</th>\n",
              "      <th>rcom_other</th>\n",
              "      <th>bdep</th>\n",
              "      <th>bcom</th>\n",
              "      <th>pc</th>\n",
              "      <th>dep_terminal</th>\n",
              "      <th>type_school_f</th>\n",
              "      <th>type_school_f_other</th>\n",
              "      <th>type_school_t</th>\n",
              "      <th>type_school_t_other</th>\n",
              "      <th>system</th>\n",
              "      <th>section</th>\n",
              "      <th>filiere</th>\n",
              "      <th>love_sect</th>\n",
              "      <th>let_level</th>\n",
              "      <th>moyenne</th>\n",
              "      <th>prefac</th>\n",
              "      <th>prefac_org</th>\n",
              "      <th>prefac_org_other</th>\n",
              "      <th>inscri</th>\n",
              "      <th>inscri/ueh</th>\n",
              "      <th>inscri/ctpea</th>\n",
              "      <th>inscri/enst</th>\n",
              "      <th>ueh_fac</th>\n",
              "      <th>ueh_fac/ens</th>\n",
              "      <th>ueh_fac/famv</th>\n",
              "      <th>ueh_fac/fasch</th>\n",
              "      <th>ueh_fac/fds</th>\n",
              "      <th>ueh_fac/fdse</th>\n",
              "      <th>ueh_fac/fe</th>\n",
              "      <th>ueh_fac/fla</th>\n",
              "      <th>ueh_fac/fmp</th>\n",
              "      <th>ueh_fac/fo</th>\n",
              "      <th>ueh_fac/fdsegch</th>\n",
              "      <th>ueh_fac/ierah</th>\n",
              "      <th>ueh_fac/inaghei</th>\n",
              "      <th>...</th>\n",
              "      <th>ueh_fac_admission/fasch</th>\n",
              "      <th>ueh_fac_admission/fds</th>\n",
              "      <th>ueh_fac_admission/fdse</th>\n",
              "      <th>ueh_fac_admission/fe</th>\n",
              "      <th>ueh_fac_admission/fla</th>\n",
              "      <th>ueh_fac_admission/fmp</th>\n",
              "      <th>ueh_fac_admission/fo</th>\n",
              "      <th>ueh_fac_admission/fdsegch</th>\n",
              "      <th>ueh_fac_admission/ierah</th>\n",
              "      <th>ueh_fac_admission/inaghei</th>\n",
              "      <th>paf</th>\n",
              "      <th>nb_sup1</th>\n",
              "      <th>nb_univ</th>\n",
              "      <th>univ_1</th>\n",
              "      <th>nom_univ1</th>\n",
              "      <th>option1</th>\n",
              "      <th>fac1</th>\n",
              "      <th>anne1</th>\n",
              "      <th>nb_reprises</th>\n",
              "      <th>duree</th>\n",
              "      <th>univ_2</th>\n",
              "      <th>nom_univ2</th>\n",
              "      <th>nonuniv22</th>\n",
              "      <th>option2</th>\n",
              "      <th>fac2</th>\n",
              "      <th>anne2</th>\n",
              "      <th>nb_reprises2</th>\n",
              "      <th>duree2</th>\n",
              "      <th>family</th>\n",
              "      <th>family_mono</th>\n",
              "      <th>money</th>\n",
              "      <th>scolarite_parent</th>\n",
              "      <th>scolarite_paid</th>\n",
              "      <th>scolarite_paid_other</th>\n",
              "      <th>parent_revenu</th>\n",
              "      <th>left</th>\n",
              "      <th>yCTPEA</th>\n",
              "      <th>yENST</th>\n",
              "      <th>yUEH</th>\n",
              "      <th>depdiff</th>\n",
              "    </tr>\n",
              "  </thead>\n",
              "  <tbody>\n",
              "    <tr>\n",
              "      <th>0</th>\n",
              "      <td>Oui</td>\n",
              "      <td>Oui</td>\n",
              "      <td>Masculin</td>\n",
              "      <td>20.0</td>\n",
              "      <td>Tabarre</td>\n",
              "      <td>NaN</td>\n",
              "      <td>Ouest</td>\n",
              "      <td>Delmas</td>\n",
              "      <td>Non</td>\n",
              "      <td>Ouest</td>\n",
              "      <td>Privee</td>\n",
              "      <td>NaN</td>\n",
              "      <td>Privee</td>\n",
              "      <td>NaN</td>\n",
              "      <td>Nouveau Secondaire</td>\n",
              "      <td>NaN</td>\n",
              "      <td>SVT</td>\n",
              "      <td>Non</td>\n",
              "      <td>Meilleur(e) en lettre/mémorisation qu'en chiffre</td>\n",
              "      <td>7.0</td>\n",
              "      <td>Oui</td>\n",
              "      <td>other</td>\n",
              "      <td>Vip préfac</td>\n",
              "      <td>UEH (Université d'Etat d'Haiti)</td>\n",
              "      <td>1.0</td>\n",
              "      <td>0.0</td>\n",
              "      <td>0.0</td>\n",
              "      <td>Institut National d’Administration, de Gestion...</td>\n",
              "      <td>0.0</td>\n",
              "      <td>0.0</td>\n",
              "      <td>0.0</td>\n",
              "      <td>0.0</td>\n",
              "      <td>0.0</td>\n",
              "      <td>0.0</td>\n",
              "      <td>0.0</td>\n",
              "      <td>0.0</td>\n",
              "      <td>0.0</td>\n",
              "      <td>0.0</td>\n",
              "      <td>0.0</td>\n",
              "      <td>1.0</td>\n",
              "      <td>...</td>\n",
              "      <td>0.0</td>\n",
              "      <td>0.0</td>\n",
              "      <td>0.0</td>\n",
              "      <td>0.0</td>\n",
              "      <td>0.0</td>\n",
              "      <td>0.0</td>\n",
              "      <td>0.0</td>\n",
              "      <td>0.0</td>\n",
              "      <td>0.0</td>\n",
              "      <td>1.0</td>\n",
              "      <td>0.0</td>\n",
              "      <td>Non</td>\n",
              "      <td>NaN</td>\n",
              "      <td>NaN</td>\n",
              "      <td>UEH</td>\n",
              "      <td>NaN</td>\n",
              "      <td>Institut National d’Administration, de Gestion...</td>\n",
              "      <td>4.0</td>\n",
              "      <td>0.0</td>\n",
              "      <td>4.0</td>\n",
              "      <td>NaN</td>\n",
              "      <td>NaN</td>\n",
              "      <td>NaN</td>\n",
              "      <td>NaN</td>\n",
              "      <td>NaN</td>\n",
              "      <td>NaN</td>\n",
              "      <td>NaN</td>\n",
              "      <td>NaN</td>\n",
              "      <td>Oui</td>\n",
              "      <td>Non</td>\n",
              "      <td>Non</td>\n",
              "      <td>Oui</td>\n",
              "      <td>NaN</td>\n",
              "      <td>NaN</td>\n",
              "      <td>Oui</td>\n",
              "      <td>Oui</td>\n",
              "      <td>0</td>\n",
              "      <td>0</td>\n",
              "      <td>0</td>\n",
              "      <td>True</td>\n",
              "    </tr>\n",
              "    <tr>\n",
              "      <th>1</th>\n",
              "      <td>Oui</td>\n",
              "      <td>Oui</td>\n",
              "      <td>Masculin</td>\n",
              "      <td>25.0</td>\n",
              "      <td>Port-au-Prince</td>\n",
              "      <td>NaN</td>\n",
              "      <td>Centre</td>\n",
              "      <td>Thomonde</td>\n",
              "      <td>Oui</td>\n",
              "      <td>Ouest</td>\n",
              "      <td>Congréganiste (Frères, Soeurs)</td>\n",
              "      <td>NaN</td>\n",
              "      <td>Congréganiste (Frères, Soeurs)</td>\n",
              "      <td>NaN</td>\n",
              "      <td>Traditionnelle</td>\n",
              "      <td>D</td>\n",
              "      <td>NaN</td>\n",
              "      <td>Non</td>\n",
              "      <td>J'étais cale en chiffre et en lettre/mémorisation</td>\n",
              "      <td>8.0</td>\n",
              "      <td>Oui</td>\n",
              "      <td>UEH (Université d'Etat d'Haiti)</td>\n",
              "      <td>NaN</td>\n",
              "      <td>UEH (Université d'Etat d'Haiti) CTPEA (Centre ...</td>\n",
              "      <td>1.0</td>\n",
              "      <td>1.0</td>\n",
              "      <td>0.0</td>\n",
              "      <td>ENS (Ecole Normale Supérieure) Faculté des Sci...</td>\n",
              "      <td>1.0</td>\n",
              "      <td>0.0</td>\n",
              "      <td>0.0</td>\n",
              "      <td>1.0</td>\n",
              "      <td>0.0</td>\n",
              "      <td>0.0</td>\n",
              "      <td>0.0</td>\n",
              "      <td>0.0</td>\n",
              "      <td>0.0</td>\n",
              "      <td>0.0</td>\n",
              "      <td>0.0</td>\n",
              "      <td>1.0</td>\n",
              "      <td>...</td>\n",
              "      <td>0.0</td>\n",
              "      <td>0.0</td>\n",
              "      <td>0.0</td>\n",
              "      <td>0.0</td>\n",
              "      <td>0.0</td>\n",
              "      <td>0.0</td>\n",
              "      <td>0.0</td>\n",
              "      <td>0.0</td>\n",
              "      <td>0.0</td>\n",
              "      <td>1.0</td>\n",
              "      <td>0.0</td>\n",
              "      <td>Non</td>\n",
              "      <td>NaN</td>\n",
              "      <td>NaN</td>\n",
              "      <td>CTPEA</td>\n",
              "      <td>Statistique</td>\n",
              "      <td>NaN</td>\n",
              "      <td>4.0</td>\n",
              "      <td>1.0</td>\n",
              "      <td>4.0</td>\n",
              "      <td>NaN</td>\n",
              "      <td>NaN</td>\n",
              "      <td>NaN</td>\n",
              "      <td>NaN</td>\n",
              "      <td>NaN</td>\n",
              "      <td>NaN</td>\n",
              "      <td>NaN</td>\n",
              "      <td>NaN</td>\n",
              "      <td>Non</td>\n",
              "      <td>NaN</td>\n",
              "      <td>Non</td>\n",
              "      <td>Oui</td>\n",
              "      <td>NaN</td>\n",
              "      <td>NaN</td>\n",
              "      <td>Oui</td>\n",
              "      <td>Oui</td>\n",
              "      <td>0</td>\n",
              "      <td>0</td>\n",
              "      <td>0</td>\n",
              "      <td>False</td>\n",
              "    </tr>\n",
              "    <tr>\n",
              "      <th>2</th>\n",
              "      <td>Oui</td>\n",
              "      <td>Oui</td>\n",
              "      <td>Masculin</td>\n",
              "      <td>22.0</td>\n",
              "      <td>Port-au-Prince</td>\n",
              "      <td>NaN</td>\n",
              "      <td>Ouest</td>\n",
              "      <td>Port-au-Prince</td>\n",
              "      <td>Oui</td>\n",
              "      <td>Ouest</td>\n",
              "      <td>Congréganiste (Frères, Soeurs)</td>\n",
              "      <td>NaN</td>\n",
              "      <td>Congréganiste (Frères, Soeurs)</td>\n",
              "      <td>NaN</td>\n",
              "      <td>Traditionnelle</td>\n",
              "      <td>C</td>\n",
              "      <td>NaN</td>\n",
              "      <td>Oui</td>\n",
              "      <td>J'étais cale en chiffre et en lettre/mémorisation</td>\n",
              "      <td>7.0</td>\n",
              "      <td>Oui</td>\n",
              "      <td>UEH (Université d'Etat d'Haiti)</td>\n",
              "      <td>NaN</td>\n",
              "      <td>UEH (Université d'Etat d'Haiti) CTPEA (Centre ...</td>\n",
              "      <td>1.0</td>\n",
              "      <td>1.0</td>\n",
              "      <td>0.0</td>\n",
              "      <td>Faculté des Sciences (FDS) Faculté de Droit et...</td>\n",
              "      <td>0.0</td>\n",
              "      <td>0.0</td>\n",
              "      <td>0.0</td>\n",
              "      <td>1.0</td>\n",
              "      <td>1.0</td>\n",
              "      <td>0.0</td>\n",
              "      <td>0.0</td>\n",
              "      <td>0.0</td>\n",
              "      <td>0.0</td>\n",
              "      <td>0.0</td>\n",
              "      <td>0.0</td>\n",
              "      <td>0.0</td>\n",
              "      <td>...</td>\n",
              "      <td>0.0</td>\n",
              "      <td>1.0</td>\n",
              "      <td>1.0</td>\n",
              "      <td>0.0</td>\n",
              "      <td>0.0</td>\n",
              "      <td>0.0</td>\n",
              "      <td>0.0</td>\n",
              "      <td>0.0</td>\n",
              "      <td>0.0</td>\n",
              "      <td>0.0</td>\n",
              "      <td>0.0</td>\n",
              "      <td>Non</td>\n",
              "      <td>NaN</td>\n",
              "      <td>NaN</td>\n",
              "      <td>CTPEA</td>\n",
              "      <td>Economie ou planification (pour les étudiants ...</td>\n",
              "      <td>NaN</td>\n",
              "      <td>4.0</td>\n",
              "      <td>1.0</td>\n",
              "      <td>4.0</td>\n",
              "      <td>NaN</td>\n",
              "      <td>NaN</td>\n",
              "      <td>NaN</td>\n",
              "      <td>NaN</td>\n",
              "      <td>NaN</td>\n",
              "      <td>NaN</td>\n",
              "      <td>NaN</td>\n",
              "      <td>NaN</td>\n",
              "      <td>Oui</td>\n",
              "      <td>Non</td>\n",
              "      <td>Oui</td>\n",
              "      <td>Non</td>\n",
              "      <td>Je paie mes frais de scolarité</td>\n",
              "      <td>NaN</td>\n",
              "      <td>Non</td>\n",
              "      <td>Oui</td>\n",
              "      <td>0</td>\n",
              "      <td>0</td>\n",
              "      <td>0</td>\n",
              "      <td>True</td>\n",
              "    </tr>\n",
              "    <tr>\n",
              "      <th>3</th>\n",
              "      <td>Oui</td>\n",
              "      <td>Oui</td>\n",
              "      <td>Feminin</td>\n",
              "      <td>20.0</td>\n",
              "      <td>Croix-des Bouquets</td>\n",
              "      <td>NaN</td>\n",
              "      <td>Ouest</td>\n",
              "      <td>Delmas</td>\n",
              "      <td>Oui</td>\n",
              "      <td>Ouest</td>\n",
              "      <td>Congréganiste (Frères, Soeurs)</td>\n",
              "      <td>NaN</td>\n",
              "      <td>Congréganiste (Frères, Soeurs)</td>\n",
              "      <td>NaN</td>\n",
              "      <td>Nouveau Secondaire</td>\n",
              "      <td>NaN</td>\n",
              "      <td>SVT</td>\n",
              "      <td>Non</td>\n",
              "      <td>Meilleur(e) en lettre/mémorisation qu'en chiffre</td>\n",
              "      <td>7.0</td>\n",
              "      <td>Oui</td>\n",
              "      <td>other</td>\n",
              "      <td>Étudiants pour la plupart à Quiskeya et Notre ...</td>\n",
              "      <td>UEH (Université d'Etat d'Haiti)</td>\n",
              "      <td>1.0</td>\n",
              "      <td>0.0</td>\n",
              "      <td>0.0</td>\n",
              "      <td>Institut National d’Administration, de Gestion...</td>\n",
              "      <td>0.0</td>\n",
              "      <td>0.0</td>\n",
              "      <td>0.0</td>\n",
              "      <td>0.0</td>\n",
              "      <td>0.0</td>\n",
              "      <td>0.0</td>\n",
              "      <td>0.0</td>\n",
              "      <td>0.0</td>\n",
              "      <td>0.0</td>\n",
              "      <td>0.0</td>\n",
              "      <td>0.0</td>\n",
              "      <td>1.0</td>\n",
              "      <td>...</td>\n",
              "      <td>0.0</td>\n",
              "      <td>0.0</td>\n",
              "      <td>0.0</td>\n",
              "      <td>0.0</td>\n",
              "      <td>0.0</td>\n",
              "      <td>0.0</td>\n",
              "      <td>0.0</td>\n",
              "      <td>0.0</td>\n",
              "      <td>0.0</td>\n",
              "      <td>1.0</td>\n",
              "      <td>0.0</td>\n",
              "      <td>Non</td>\n",
              "      <td>NaN</td>\n",
              "      <td>NaN</td>\n",
              "      <td>UEH</td>\n",
              "      <td>NaN</td>\n",
              "      <td>Institut National d’Administration, de Gestion...</td>\n",
              "      <td>4.0</td>\n",
              "      <td>2.0</td>\n",
              "      <td>4.0</td>\n",
              "      <td>NaN</td>\n",
              "      <td>NaN</td>\n",
              "      <td>NaN</td>\n",
              "      <td>NaN</td>\n",
              "      <td>NaN</td>\n",
              "      <td>NaN</td>\n",
              "      <td>NaN</td>\n",
              "      <td>NaN</td>\n",
              "      <td>Oui</td>\n",
              "      <td>Non</td>\n",
              "      <td>Non</td>\n",
              "      <td>Oui</td>\n",
              "      <td>NaN</td>\n",
              "      <td>NaN</td>\n",
              "      <td>Oui</td>\n",
              "      <td>Oui</td>\n",
              "      <td>0</td>\n",
              "      <td>0</td>\n",
              "      <td>0</td>\n",
              "      <td>True</td>\n",
              "    </tr>\n",
              "    <tr>\n",
              "      <th>4</th>\n",
              "      <td>Oui</td>\n",
              "      <td>Oui</td>\n",
              "      <td>Masculin</td>\n",
              "      <td>22.0</td>\n",
              "      <td>Port-au-Prince</td>\n",
              "      <td>NaN</td>\n",
              "      <td>Ouest</td>\n",
              "      <td>Port-au-Prince</td>\n",
              "      <td>Oui</td>\n",
              "      <td>Ouest</td>\n",
              "      <td>Lycee</td>\n",
              "      <td>NaN</td>\n",
              "      <td>Lycee</td>\n",
              "      <td>NaN</td>\n",
              "      <td>Traditionnelle</td>\n",
              "      <td>C</td>\n",
              "      <td>NaN</td>\n",
              "      <td>Non</td>\n",
              "      <td>Balance(e)</td>\n",
              "      <td>6.0</td>\n",
              "      <td>Oui</td>\n",
              "      <td>ENST (Ecole Nationale Supérieure de Technologie)</td>\n",
              "      <td>NaN</td>\n",
              "      <td>UEH (Université d'Etat d'Haiti) ENST (Ecole Na...</td>\n",
              "      <td>1.0</td>\n",
              "      <td>0.0</td>\n",
              "      <td>1.0</td>\n",
              "      <td>Faculté de Droit et des Sciences Economiques (...</td>\n",
              "      <td>0.0</td>\n",
              "      <td>0.0</td>\n",
              "      <td>0.0</td>\n",
              "      <td>0.0</td>\n",
              "      <td>1.0</td>\n",
              "      <td>0.0</td>\n",
              "      <td>0.0</td>\n",
              "      <td>0.0</td>\n",
              "      <td>0.0</td>\n",
              "      <td>0.0</td>\n",
              "      <td>0.0</td>\n",
              "      <td>1.0</td>\n",
              "      <td>...</td>\n",
              "      <td>NaN</td>\n",
              "      <td>NaN</td>\n",
              "      <td>NaN</td>\n",
              "      <td>NaN</td>\n",
              "      <td>NaN</td>\n",
              "      <td>NaN</td>\n",
              "      <td>NaN</td>\n",
              "      <td>NaN</td>\n",
              "      <td>NaN</td>\n",
              "      <td>NaN</td>\n",
              "      <td>0.0</td>\n",
              "      <td>Non</td>\n",
              "      <td>NaN</td>\n",
              "      <td>NaN</td>\n",
              "      <td>ENST</td>\n",
              "      <td>NaN</td>\n",
              "      <td>NaN</td>\n",
              "      <td>3.0</td>\n",
              "      <td>0.0</td>\n",
              "      <td>3.0</td>\n",
              "      <td>NaN</td>\n",
              "      <td>NaN</td>\n",
              "      <td>NaN</td>\n",
              "      <td>NaN</td>\n",
              "      <td>NaN</td>\n",
              "      <td>NaN</td>\n",
              "      <td>NaN</td>\n",
              "      <td>NaN</td>\n",
              "      <td>Oui</td>\n",
              "      <td>Non</td>\n",
              "      <td>Oui</td>\n",
              "      <td>Oui</td>\n",
              "      <td>NaN</td>\n",
              "      <td>NaN</td>\n",
              "      <td>Oui</td>\n",
              "      <td>Oui</td>\n",
              "      <td>0</td>\n",
              "      <td>0</td>\n",
              "      <td>0</td>\n",
              "      <td>True</td>\n",
              "    </tr>\n",
              "  </tbody>\n",
              "</table>\n",
              "<p>5 rows × 101 columns</p>\n",
              "</div>"
            ],
            "text/plain": [
              "  consent repondan      sexe   age  ... yCTPEA  yENST yUEH depdiff\n",
              "0     Oui      Oui  Masculin  20.0  ...      0      0    0    True\n",
              "1     Oui      Oui  Masculin  25.0  ...      0      0    0   False\n",
              "2     Oui      Oui  Masculin  22.0  ...      0      0    0    True\n",
              "3     Oui      Oui   Feminin  20.0  ...      0      0    0    True\n",
              "4     Oui      Oui  Masculin  22.0  ...      0      0    0    True\n",
              "\n",
              "[5 rows x 101 columns]"
            ]
          },
          "metadata": {},
          "execution_count": 610
        }
      ]
    },
    {
      "cell_type": "code",
      "metadata": {
        "id": "WewkAgARCWWD"
      },
      "source": [
        "fulldf['nb_inscriptions']  = fulldf['inscri/ueh'] + fulldf['inscri/ctpea'] + fulldf['inscri/enst']"
      ],
      "execution_count": 611,
      "outputs": []
    },
    {
      "cell_type": "markdown",
      "metadata": {
        "id": "-G8c4Z-RE5av"
      },
      "source": [
        "## **Review data types**\n",
        "Inspect the dataset for the data types of each column."
      ]
    },
    {
      "cell_type": "markdown",
      "metadata": {
        "id": "dwfL8keXFaOv"
      },
      "source": [
        "## **Treatment of Missing Values**\n",
        "If there are any missing values, how do you plan to treat those data columns?"
      ]
    },
    {
      "cell_type": "markdown",
      "metadata": {
        "id": "rBxMYxMeG-h5"
      },
      "source": [
        "# **Data Analysis**\n",
        "Explore the dataset to discover relationships between records or columns and patterns within the data."
      ]
    },
    {
      "cell_type": "markdown",
      "metadata": {
        "id": "kw83NH5rHLU_"
      },
      "source": [
        "## **Descriptive Statistical Analysis**\n",
        "Using basic statistical measures such as measurements of central tendancy such as mean, median and mode."
      ]
    },
    {
      "cell_type": "markdown",
      "metadata": {
        "id": "qJ59WhyBHgXf"
      },
      "source": [
        "### **Distribution of Variables**\n",
        "Identify the distribution of the data to understand the range of values and how the data is structured.\n",
        "\n",
        "### **Outliers in the dataset**\n",
        "Identify if there are any outliers in the dataset based on statistical measures."
      ]
    },
    {
      "cell_type": "code",
      "metadata": {
        "id": "gzOqBRtwDpx0"
      },
      "source": [
        "# Number of observations\n",
        "\n",
        "dim = fulldf.shape\n",
        "\n",
        "univ = fulldf[fulldf[\"repondan\"] == \"Oui\"]\n",
        "\n",
        "dim2 = univ.shape\n",
        "\n",
        "data = univ[univ[\"consent\"] == \"Oui\"]\n",
        "\n",
        "dim3 = data.shape"
      ],
      "execution_count": 612,
      "outputs": []
    },
    {
      "cell_type": "code",
      "metadata": {
        "colab": {
          "base_uri": "https://localhost:8080/"
        },
        "id": "t7OWWBMS4n3L",
        "outputId": "108175cc-c584-46bc-c15f-b459b33710bc"
      },
      "source": [
        "dim2"
      ],
      "execution_count": 613,
      "outputs": [
        {
          "output_type": "execute_result",
          "data": {
            "text/plain": [
              "(152, 102)"
            ]
          },
          "metadata": {},
          "execution_count": 613
        }
      ]
    },
    {
      "cell_type": "code",
      "metadata": {
        "colab": {
          "base_uri": "https://localhost:8080/"
        },
        "id": "WPfGHrfIF00i",
        "outputId": "119e748c-e63f-4824-a054-491adbe3f8e5"
      },
      "source": [
        "f = \"Le lien du questionnaire a ete touche par \"+str(dim[0])+\" repondants, dont \"+str(dim2[0])+\" universitaires.\\n\"\n",
        "\n",
        "f += \"Parmis ces \"+str(dim2[0])+\" universitaires, \"+str(dim3[0])+\" ont accepter de participer a l'enquete.\\n\"\n",
        "\n",
        "f += \"Ce qui correspond a un taux de reponse de \"+str(dim3[0]/dim2[0])\n",
        "\n",
        "f += \"\\nLes analyses qui suivront concernent donc \"+str(dim3[0])+\" universitaires.\\n\\n\"\n",
        "\n",
        "print(f)\n",
        "insights += f"
      ],
      "execution_count": 614,
      "outputs": [
        {
          "output_type": "stream",
          "name": "stdout",
          "text": [
            "Le lien du questionnaire a ete touche par 161 repondants, dont 152 universitaires.\n",
            "Parmis ces 152 universitaires, 151 ont accepter de participer a l'enquete.\n",
            "Ce qui correspond a un taux de reponse de 0.993421052631579\n",
            "Les analyses qui suivront concernent donc 151 universitaires.\n",
            "\n",
            "\n"
          ]
        }
      ]
    },
    {
      "cell_type": "code",
      "metadata": {
        "colab": {
          "base_uri": "https://localhost:8080/",
          "height": 286
        },
        "id": "_hlE4YOL6Fo1",
        "outputId": "5db4ef80-7dd5-40df-bd00-b38ca96c25f0"
      },
      "source": [
        "font = {'family': 'serif',\n",
        "        'color':  'black',\n",
        "        'weight': 'normal',\n",
        "        'size': 16,\n",
        "        }\n",
        "\n",
        "def BarHPlot(x, tit):\n",
        "  d = data[x].value_counts()\n",
        "  col = data[x].value_counts(normalize=True)\n",
        "  g = plt.barh(col.index, height=.6, width=col, color=\"slateblue\")\n",
        "  \n",
        "  for i, v in enumerate(col):\n",
        "    plt.text(v/2, i, str(round(v*100,2))+\" %\", color='w', fontweight='bold')\n",
        "  plt.title(tit, fontsize=20, fontdict=font)\n",
        "  plt.savefig(tit+\".png\")\n",
        "  return d, col, g\n",
        "\n",
        "\n",
        "d, g, f = BarHPlot('nom_univ1', \"Participants by University\")"
      ],
      "execution_count": 615,
      "outputs": [
        {
          "output_type": "display_data",
          "data": {
            "image/png": "[encoded data removed]",
            "text/plain": [
              "<Figure size 432x288 with 1 Axes>"
            ]
          },
          "metadata": {
            "needs_background": "light"
          }
        }
      ]
    },
    {
      "cell_type": "code",
      "metadata": {
        "colab": {
          "base_uri": "https://localhost:8080/",
          "height": 264
        },
        "id": "lF_sTz15HEHv",
        "outputId": "9a2b8aa4-b0ff-4911-8526-ab246266a0c9"
      },
      "source": [
        "PieChart(data=data.nom_univ1, tit = \"Participants by university\")\n"
      ],
      "execution_count": 616,
      "outputs": [
        {
          "output_type": "display_data",
          "data": {
            "image/png": "[encoded data removed]",
            "text/plain": [
              "<Figure size 432x288 with 1 Axes>"
            ]
          },
          "metadata": {}
        }
      ]
    },
    {
      "cell_type": "code",
      "metadata": {
        "id": "AiMzUdkI_f6E"
      },
      "source": [
        ""
      ],
      "execution_count": 616,
      "outputs": []
    },
    {
      "cell_type": "code",
      "metadata": {
        "colab": {
          "base_uri": "https://localhost:8080/",
          "height": 264
        },
        "id": "Vute5Xh2OXgn",
        "outputId": "cb04dfd2-a771-46b2-8125-a1b2ef87acee"
      },
      "source": [
        "PieChart(data.sexe, \"Sex distribution\")"
      ],
      "execution_count": 617,
      "outputs": [
        {
          "output_type": "display_data",
          "data": {
            "image/png": "[encoded data removed]",
            "text/plain": [
              "<Figure size 432x288 with 1 Axes>"
            ]
          },
          "metadata": {}
        }
      ]
    },
    {
      "cell_type": "code",
      "metadata": {
        "id": "HFQtbdTyCukE"
      },
      "source": [
        "def BivPlot(data=data, col1 = \"\", col2 = \"\", lable1 = [], labels2 = [], tit=\"\", ):\n",
        "  tab = pd.crosstab(data[col1], data[col2])\n",
        "  tab.plot(kind='bar')\n",
        "  plt.xticks(rotation = 0)\n",
        "\n",
        "  plt.show()"
      ],
      "execution_count": 618,
      "outputs": []
    },
    {
      "cell_type": "code",
      "metadata": {
        "colab": {
          "base_uri": "https://localhost:8080/",
          "height": 283
        },
        "id": "o2HTyADiDDgV",
        "outputId": "121f816c-bb2a-4a09-c344-bc9b93b60357"
      },
      "source": [
        "BivPlot(col2=\"sexe\", col1='nom_univ1')"
      ],
      "execution_count": 619,
      "outputs": [
        {
          "output_type": "display_data",
          "data": {
            "image/png": "[encoded data removed]",
            "text/plain": [
              "<Figure size 432x288 with 1 Axes>"
            ]
          },
          "metadata": {
            "needs_background": "light"
          }
        }
      ]
    },
    {
      "cell_type": "code",
      "metadata": {
        "colab": {
          "base_uri": "https://localhost:8080/",
          "height": 581
        },
        "id": "cSZsxVjWK-hw",
        "outputId": "603a62e8-139b-44a9-a150-c2e448234756"
      },
      "source": [
        "BarHPlot('bdep', 'Participants by origin')"
      ],
      "execution_count": 620,
      "outputs": [
        {
          "output_type": "execute_result",
          "data": {
            "text/plain": [
              "(Ouest         98\n",
              " Nord          22\n",
              " Artibonite    11\n",
              " Sud            6\n",
              " Nord-Ouest     4\n",
              " Nord-Est       4\n",
              " Centre         3\n",
              " Sud-Est        3\n",
              " Name: bdep, dtype: int64, Ouest         0.649007\n",
              " Nord          0.145695\n",
              " Artibonite    0.072848\n",
              " Sud           0.039735\n",
              " Nord-Ouest    0.026490\n",
              " Nord-Est      0.026490\n",
              " Centre        0.019868\n",
              " Sud-Est       0.019868\n",
              " Name: bdep, dtype: float64, <BarContainer object of 8 artists>)"
            ]
          },
          "metadata": {},
          "execution_count": 620
        },
        {
          "output_type": "display_data",
          "data": {
            "image/png": "[encoded data removed]",
            "text/plain": [
              "<Figure size 432x288 with 1 Axes>"
            ]
          },
          "metadata": {
            "needs_background": "light"
          }
        }
      ]
    },
    {
      "cell_type": "code",
      "metadata": {
        "colab": {
          "base_uri": "https://localhost:8080/",
          "height": 582
        },
        "id": "BGDXkX6SLUAJ",
        "outputId": "691372d1-a5d5-4b85-cb58-1fb9b29789f3"
      },
      "source": [
        "BarHPlot('dep_terminal', \"Participants by Origin(BAC)\")"
      ],
      "execution_count": 621,
      "outputs": [
        {
          "output_type": "execute_result",
          "data": {
            "text/plain": [
              "(Ouest         109\n",
              " Nord           21\n",
              " Artibonite      9\n",
              " Sud-Est         4\n",
              " Sud             4\n",
              " Nord-Ouest      2\n",
              " Nord-Est        1\n",
              " Centre          1\n",
              " Name: dep_terminal, dtype: int64, Ouest         0.721854\n",
              " Nord          0.139073\n",
              " Artibonite    0.059603\n",
              " Sud-Est       0.026490\n",
              " Sud           0.026490\n",
              " Nord-Ouest    0.013245\n",
              " Nord-Est      0.006623\n",
              " Centre        0.006623\n",
              " Name: dep_terminal, dtype: float64, <BarContainer object of 8 artists>)"
            ]
          },
          "metadata": {},
          "execution_count": 621
        },
        {
          "output_type": "display_data",
          "data": {
            "image/png": "[encoded data removed]",
            "text/plain": [
              "<Figure size 432x288 with 1 Axes>"
            ]
          },
          "metadata": {
            "needs_background": "light"
          }
        }
      ]
    },
    {
      "cell_type": "code",
      "metadata": {
        "colab": {
          "base_uri": "https://localhost:8080/",
          "height": 303
        },
        "id": "PAcsOgJpNNoG",
        "outputId": "92eb70e9-e07c-4a3b-f75a-6d6f5e2a4a14"
      },
      "source": [
        "dbTemp = data[data.bdep != \"Ouest\"]\n",
        "\n",
        "y = len(dbTemp)\n",
        "x = sum(dbTemp['depdiff'])\n",
        "f = \"\"\n",
        "f += str(x/y)+\" It's the proportion des etudiants non originaire de l'\\Ouest qui y viennent juste pour l'universite\"\n",
        "\n",
        "def BarHPlotsp(x, tit):\n",
        "  d = data[data[x] != \"Ouest\"].value_counts()\n",
        "  col = data[data[x] != \"Ouest\"][x].value_counts(normalize=True)\n",
        "  g = plt.barh(col.index, height=.6, width=col, color=\"slateblue\")\n",
        "  \n",
        "  for i, v in enumerate(col):\n",
        "    plt.text(v/2, i, str(round(v*100,2))+\" %\", color='black', fontweight='bold')\n",
        "  plt.title(tit, fontsize=20, fontdict=font)\n",
        "  plt.savefig(tit+\".png\")\n",
        "  return d, col, g\n",
        "d, g, f = BarHPlotsp('bdep', \"Participants by Origin\")\n",
        "d"
      ],
      "execution_count": 622,
      "outputs": [
        {
          "output_type": "execute_result",
          "data": {
            "text/plain": [
              "Series([], dtype: int64)"
            ]
          },
          "metadata": {},
          "execution_count": 622
        },
        {
          "output_type": "display_data",
          "data": {
            "image/png": "[encoded data removed]",
            "text/plain": [
              "<Figure size 432x288 with 1 Axes>"
            ]
          },
          "metadata": {
            "needs_background": "light"
          }
        }
      ]
    },
    {
      "cell_type": "code",
      "metadata": {
        "colab": {
          "base_uri": "https://localhost:8080/",
          "height": 280
        },
        "id": "QojCouUQX7_b",
        "outputId": "c7b14d52-b00d-4365-e91a-74279b33b01e"
      },
      "source": [
        "BivPlot(col2=\"sexe\", col1=\"bdep\")"
      ],
      "execution_count": 623,
      "outputs": [
        {
          "output_type": "display_data",
          "data": {
            "image/png": "[encoded data removed]",
            "text/plain": [
              "<Figure size 432x288 with 1 Axes>"
            ]
          },
          "metadata": {
            "needs_background": "light"
          }
        }
      ]
    },
    {
      "cell_type": "code",
      "metadata": {
        "colab": {
          "base_uri": "https://localhost:8080/"
        },
        "id": "YSmCWcz2Ar0Q",
        "outputId": "d4a6555b-8983-46e4-8611-2d39d9cf3880"
      },
      "source": [
        "data.age.mean()"
      ],
      "execution_count": 624,
      "outputs": [
        {
          "output_type": "execute_result",
          "data": {
            "text/plain": [
              "23.2317880794702"
            ]
          },
          "metadata": {},
          "execution_count": 624
        }
      ]
    },
    {
      "cell_type": "code",
      "metadata": {
        "colab": {
          "base_uri": "https://localhost:8080/"
        },
        "id": "InuC4677AyL4",
        "outputId": "b8290d62-763c-4d12-c54b-538d193d3128"
      },
      "source": [
        "data.age.median()"
      ],
      "execution_count": 625,
      "outputs": [
        {
          "output_type": "execute_result",
          "data": {
            "text/plain": [
              "23.0"
            ]
          },
          "metadata": {},
          "execution_count": 625
        }
      ]
    },
    {
      "cell_type": "code",
      "metadata": {
        "id": "ues9EekPn5iO",
        "colab": {
          "base_uri": "https://localhost:8080/",
          "height": 1000
        },
        "outputId": "6cf80cde-9546-4120-bc4c-6f361a013cab"
      },
      "source": [
        "def AgeDist(df, cat):\n",
        "\n",
        "  sns.distplot(df['age'], color='blueviolet', bins=8)\n",
        "  tit = \"Age distribution for \"+cat\n",
        "  plt.title(tit,fontdict=font,)\n",
        "  plt.savefig(tit+\".png\")\n",
        "  plt.show()\n",
        "\n",
        "  kurtosis = stats.kurtosis(df.age)\n",
        "  skewness = stats.skew(df.age)\n",
        "  print(kurtosis, skewness)\n",
        "  st, pv = stats.jarque_bera(df.age)\n",
        "  f = \"Normality Test for Age:\\n\"\n",
        "  f += \"P-value = \"+str(round(pv, 2))+\". Then \"\n",
        "  if pv < 0.05:\n",
        "    f += \"We reject the hypothesis: the age's distribution of students are noraml\"\n",
        "    print(f)\n",
        "    print(round(pv,2))\n",
        "  else:\n",
        "    f += \"The data don't give us enough informations to say that the age's distribution of students are not noraml\"\n",
        "    print(f)\n",
        "  return f\n",
        "print(\"All student age distribution\")\n",
        "f = AgeDist(data, \"All participants\")\n",
        "print(\"CTPEA age Distribution\")\n",
        "f = AgeDist(data[data['nom_univ1']==\"CTPEA\"], \"CTPEA Academics\")\n",
        "print(\"ENST age Distribution\")\n",
        "f = AgeDist(data[data['nom_univ1']==\"ENST\"], \"ENST Academics\")\n",
        "print(\"UEH age Distribution\")\n",
        "f = AgeDist(data[data['nom_univ1']==\"UEH\"], \"UEH Academics\")\n"
      ],
      "execution_count": 626,
      "outputs": [
        {
          "output_type": "stream",
          "name": "stdout",
          "text": [
            "All student age distribution\n"
          ]
        },
        {
          "output_type": "stream",
          "name": "stderr",
          "text": [
            "/usr/local/lib/python3.7/dist-packages/seaborn/distributions.py:2619: FutureWarning: `distplot` is a deprecated function and will be removed in a future version. Please adapt your code to use either `displot` (a figure-level function with similar flexibility) or `histplot` (an axes-level function for histograms).\n",
            "  warnings.warn(msg, FutureWarning)\n"
          ]
        },
        {
          "output_type": "display_data",
          "data": {
            "image/png": "[encoded data removed]",
            "text/plain": [
              "<Figure size 432x288 with 1 Axes>"
            ]
          },
          "metadata": {
            "needs_background": "light"
          }
        },
        {
          "output_type": "stream",
          "name": "stdout",
          "text": [
            "3.5043706588129524 1.112835318556592\n",
            "Normality Test for Age:\n",
            "P-value = 0.0. Then We reject the hypothesis: the age's distribution of students are noraml\n",
            "0.0\n",
            "CTPEA age Distribution\n"
          ]
        },
        {
          "output_type": "stream",
          "name": "stderr",
          "text": [
            "/usr/local/lib/python3.7/dist-packages/seaborn/distributions.py:2619: FutureWarning: `distplot` is a deprecated function and will be removed in a future version. Please adapt your code to use either `displot` (a figure-level function with similar flexibility) or `histplot` (an axes-level function for histograms).\n",
            "  warnings.warn(msg, FutureWarning)\n"
          ]
        },
        {
          "output_type": "display_data",
          "data": {
            "image/png": "[encoded data removed]",
            "text/plain": [
              "<Figure size 432x288 with 1 Axes>"
            ]
          },
          "metadata": {
            "needs_background": "light"
          }
        },
        {
          "output_type": "stream",
          "name": "stdout",
          "text": [
            "1.1712893781596803 0.7488222871083512\n",
            "Normality Test for Age:\n",
            "P-value = 0.03. Then We reject the hypothesis: the age's distribution of students are noraml\n",
            "0.03\n",
            "ENST age Distribution\n"
          ]
        },
        {
          "output_type": "stream",
          "name": "stderr",
          "text": [
            "/usr/local/lib/python3.7/dist-packages/seaborn/distributions.py:2619: FutureWarning: `distplot` is a deprecated function and will be removed in a future version. Please adapt your code to use either `displot` (a figure-level function with similar flexibility) or `histplot` (an axes-level function for histograms).\n",
            "  warnings.warn(msg, FutureWarning)\n"
          ]
        },
        {
          "output_type": "display_data",
          "data": {
            "image/png": "[encoded data removed]",
            "text/plain": [
              "<Figure size 432x288 with 1 Axes>"
            ]
          },
          "metadata": {
            "needs_background": "light"
          }
        },
        {
          "output_type": "stream",
          "name": "stdout",
          "text": [
            "-1.0347800237812126 0.1632838318453378\n",
            "Normality Test for Age:\n",
            "P-value = 0.54. Then The data don't give us enough informations to say that the age's distribution of students are not noraml\n",
            "UEH age Distribution\n"
          ]
        },
        {
          "output_type": "stream",
          "name": "stderr",
          "text": [
            "/usr/local/lib/python3.7/dist-packages/seaborn/distributions.py:2619: FutureWarning: `distplot` is a deprecated function and will be removed in a future version. Please adapt your code to use either `displot` (a figure-level function with similar flexibility) or `histplot` (an axes-level function for histograms).\n",
            "  warnings.warn(msg, FutureWarning)\n"
          ]
        },
        {
          "output_type": "display_data",
          "data": {
            "image/png": "[encoded data removed]",
            "text/plain": [
              "<Figure size 432x288 with 1 Axes>"
            ]
          },
          "metadata": {
            "needs_background": "light"
          }
        },
        {
          "output_type": "stream",
          "name": "stdout",
          "text": [
            "3.2779452680733883 1.2670174456061987\n",
            "Normality Test for Age:\n",
            "P-value = 0.0. Then We reject the hypothesis: the age's distribution of students are noraml\n",
            "0.0\n"
          ]
        }
      ]
    },
    {
      "cell_type": "code",
      "metadata": {
        "id": "AqnzmjWfN8Hc",
        "colab": {
          "base_uri": "https://localhost:8080/",
          "height": 350
        },
        "outputId": "5728c87a-4b21-4f05-86aa-036245db108d"
      },
      "source": [
        "sns.boxplot(data.age, data.nom_univ1)\n",
        "plt.xlabel(\"Priority University\")\n",
        "plt.ylabel(\"Age\")\n",
        "plt.title(\"Distribution of age among University Centers\")\n",
        "plt.show()"
      ],
      "execution_count": 627,
      "outputs": [
        {
          "output_type": "stream",
          "name": "stderr",
          "text": [
            "/usr/local/lib/python3.7/dist-packages/seaborn/_decorators.py:43: FutureWarning: Pass the following variables as keyword args: x, y. From version 0.12, the only valid positional argument will be `data`, and passing other arguments without an explicit keyword will result in an error or misinterpretation.\n",
            "  FutureWarning\n"
          ]
        },
        {
          "output_type": "display_data",
          "data": {
            "image/png": "[encoded data removed]",
            "text/plain": [
              "<Figure size 432x288 with 1 Axes>"
            ]
          },
          "metadata": {
            "needs_background": "light"
          }
        }
      ]
    },
    {
      "cell_type": "code",
      "metadata": {
        "id": "dpHUHI2sNSWg",
        "colab": {
          "base_uri": "https://localhost:8080/",
          "height": 271
        },
        "outputId": "703e585a-6452-4147-9f14-a81afb18d8a3"
      },
      "source": [
        "\n",
        "\n",
        "sns.boxplot(y = data.fac1, x = data.age)\n",
        "plt.xlabel(\"Priority University (UEH)\")\n",
        "plt.title(\"Distribution of age among UEH entities\", size = 22)\n",
        "plt.ylabel(\"Age\")\n",
        "plt.show()"
      ],
      "execution_count": 628,
      "outputs": [
        {
          "output_type": "display_data",
          "data": {
            "image/png": "[encoded data removed]",
            "text/plain": [
              "<Figure size 432x288 with 1 Axes>"
            ]
          },
          "metadata": {
            "needs_background": "light"
          }
        }
      ]
    },
    {
      "cell_type": "code",
      "metadata": {
        "colab": {
          "base_uri": "https://localhost:8080/",
          "height": 442
        },
        "id": "FLiJpowbcBTE",
        "outputId": "36291c01-c841-477e-bd65-e9c8a61ba43f"
      },
      "source": [
        "BarHPlot('type_school_t', \"Participants by School System\")"
      ],
      "execution_count": 629,
      "outputs": [
        {
          "output_type": "execute_result",
          "data": {
            "text/plain": [
              "(Congréganiste (Frères, Soeurs)    91\n",
              " Privee                            34\n",
              " Lycee                             25\n",
              " other                              1\n",
              " Name: type_school_t, dtype: int64, Congréganiste (Frères, Soeurs)    0.602649\n",
              " Privee                            0.225166\n",
              " Lycee                             0.165563\n",
              " other                             0.006623\n",
              " Name: type_school_t, dtype: float64, <BarContainer object of 4 artists>)"
            ]
          },
          "metadata": {},
          "execution_count": 629
        },
        {
          "output_type": "display_data",
          "data": {
            "image/png": "[encoded data removed]",
            "text/plain": [
              "<Figure size 432x288 with 1 Axes>"
            ]
          },
          "metadata": {
            "needs_background": "light"
          }
        }
      ]
    },
    {
      "cell_type": "code",
      "metadata": {
        "colab": {
          "base_uri": "https://localhost:8080/",
          "height": 280
        },
        "id": "scfwccvrcKJu",
        "outputId": "5c6b0dd1-af88-40eb-cadd-bcc2c5fa9783"
      },
      "source": [
        "BivPlot(col1=\"nom_univ1\", col2=\"type_school_t\")"
      ],
      "execution_count": 630,
      "outputs": [
        {
          "output_type": "display_data",
          "data": {
            "image/png": "[encoded data removed]",
            "text/plain": [
              "<Figure size 432x288 with 1 Axes>"
            ]
          },
          "metadata": {
            "needs_background": "light"
          }
        }
      ]
    },
    {
      "cell_type": "markdown",
      "metadata": {
        "id": "1aKjk-IpcrZr"
      },
      "source": [
        "the same order of school origin"
      ]
    },
    {
      "cell_type": "code",
      "metadata": {
        "id": "NKel22VNHY7d",
        "colab": {
          "base_uri": "https://localhost:8080/",
          "height": 264
        },
        "outputId": "fe8c7ab4-cf37-4bc0-da3f-9ad818bd3244"
      },
      "source": [
        "PieChart(data.system, \"System Educational\")"
      ],
      "execution_count": 631,
      "outputs": [
        {
          "output_type": "display_data",
          "data": {
            "image/png": "[encoded data removed]",
            "text/plain": [
              "<Figure size 432x288 with 1 Axes>"
            ]
          },
          "metadata": {}
        }
      ]
    },
    {
      "cell_type": "code",
      "metadata": {
        "colab": {
          "base_uri": "https://localhost:8080/",
          "height": 264
        },
        "id": "ND6j7wtqdB58",
        "outputId": "67ada888-5efb-4e9f-e449-32be7cb40df0"
      },
      "source": [
        "PieChart(data.love_sect, \"Like their section\")"
      ],
      "execution_count": 632,
      "outputs": [
        {
          "output_type": "display_data",
          "data": {
            "image/png": "[encoded data removed]",
            "text/plain": [
              "<Figure size 432x288 with 1 Axes>"
            ]
          },
          "metadata": {}
        }
      ]
    },
    {
      "cell_type": "code",
      "metadata": {
        "colab": {
          "base_uri": "https://localhost:8080/",
          "height": 279
        },
        "id": "YHIiviLkdL5B",
        "outputId": "ffdc3845-56b5-4cb6-8d9c-7cfd6ea147f1"
      },
      "source": [
        "BivPlot(data = data[data['system']==\"Nouveau Secondaire\"], col1=\"filiere\", col2=\"love_sect\")"
      ],
      "execution_count": 633,
      "outputs": [
        {
          "output_type": "display_data",
          "data": {
            "image/png": "[encoded data removed]",
            "text/plain": [
              "<Figure size 432x288 with 1 Axes>"
            ]
          },
          "metadata": {
            "needs_background": "light"
          }
        }
      ]
    },
    {
      "cell_type": "code",
      "metadata": {
        "colab": {
          "base_uri": "https://localhost:8080/",
          "height": 279
        },
        "id": "WUDUWlVsfQBy",
        "outputId": "f30f0ca4-843a-42a6-d7ce-92bb244e9068"
      },
      "source": [
        "BivPlot(data = data[data['system']==\"Traditionnelle\"], col1=\"section\", col2=\"love_sect\")\n"
      ],
      "execution_count": 634,
      "outputs": [
        {
          "output_type": "display_data",
          "data": {
            "image/png": "[encoded data removed]",
            "text/plain": [
              "<Figure size 432x288 with 1 Axes>"
            ]
          },
          "metadata": {
            "needs_background": "light"
          }
        }
      ]
    },
    {
      "cell_type": "code",
      "metadata": {
        "id": "6fKFDIDQIlY1",
        "colab": {
          "base_uri": "https://localhost:8080/",
          "height": 298
        },
        "outputId": "9887ed3a-e4f5-4e67-97db-4f5d7cc7b274"
      },
      "source": [
        "sns.countplot(data=data, y = \"nom_univ1\", palette=\"Purples\", hue=\"paf\",)\n",
        "plt.title(\"Time before admission\", fontdict=font)\n",
        "plt.xlabel(\"Count\")\n",
        "plt.ylabel(\"University\")\n",
        "plt.legend([\"0 Years\", \"1 Years\", \"2 Years\", \"3 Years\", \"4 Years\"])\n",
        "plt.savefig(\"Time before admission.png\")\n",
        "plt.show()"
      ],
      "execution_count": 635,
      "outputs": [
        {
          "output_type": "display_data",
          "data": {
            "image/png": "[encoded data removed]",
            "text/plain": [
              "<Figure size 432x288 with 1 Axes>"
            ]
          },
          "metadata": {
            "needs_background": "light"
          }
        }
      ]
    },
    {
      "cell_type": "code",
      "metadata": {
        "id": "jsjNv2ZMvrdN"
      },
      "source": [
        "f = \"UEH students take 0 to 4 years before integrate it\"\n",
        "f += \"CTPEA students take 0 to 3 years before integrate it\"\n",
        "f += \"ENST students take 0 to 3 years before integrate it\"\n",
        "insights += f"
      ],
      "execution_count": 636,
      "outputs": []
    },
    {
      "cell_type": "code",
      "metadata": {
        "id": "S4p2BnTE5u7Q",
        "colab": {
          "base_uri": "https://localhost:8080/",
          "height": 373
        },
        "outputId": "eecfce54-aa19-48b3-9c80-b3cea8306ad3"
      },
      "source": [
        "BarHPlot('prefac', \"\\\"Prefac\\\" Path\")"
      ],
      "execution_count": 637,
      "outputs": [
        {
          "output_type": "execute_result",
          "data": {
            "text/plain": [
              "(Oui    119\n",
              " Non     32\n",
              " Name: prefac, dtype: int64, Oui    0.788079\n",
              " Non    0.211921\n",
              " Name: prefac, dtype: float64, <BarContainer object of 2 artists>)"
            ]
          },
          "metadata": {},
          "execution_count": 637
        },
        {
          "output_type": "display_data",
          "data": {
            "image/png": "[encoded data removed]",
            "text/plain": [
              "<Figure size 432x288 with 1 Axes>"
            ]
          },
          "metadata": {
            "needs_background": "light"
          }
        }
      ]
    },
    {
      "cell_type": "code",
      "metadata": {
        "id": "niM7S_lpQ_JN",
        "colab": {
          "base_uri": "https://localhost:8080/",
          "height": 280
        },
        "outputId": "9cd12e8f-df6b-455e-d43e-09a4a6989464"
      },
      "source": [
        "BivPlot(col2=\"prefac\", col1=\"nom_univ1\")"
      ],
      "execution_count": 638,
      "outputs": [
        {
          "output_type": "display_data",
          "data": {
            "image/png": "[encoded data removed]",
            "text/plain": [
              "<Figure size 432x288 with 1 Axes>"
            ]
          },
          "metadata": {
            "needs_background": "light"
          }
        }
      ]
    },
    {
      "cell_type": "code",
      "metadata": {
        "id": "FP2z68FgRGgl",
        "colab": {
          "base_uri": "https://localhost:8080/",
          "height": 299
        },
        "outputId": "4a3a2289-66d2-4493-babb-5b83daa81b80"
      },
      "source": [
        "dbTemp3 = data[[\"prefac\", \"nom_univ1\"]]\n",
        "dbTemp3['prefac'] = dbTemp3.prefac.replace({\"Oui\":1, \"Non\": 0})\n",
        "dbTemp3.groupby(by=\"nom_univ1\").mean()"
      ],
      "execution_count": 639,
      "outputs": [
        {
          "output_type": "stream",
          "name": "stderr",
          "text": [
            "/usr/local/lib/python3.7/dist-packages/ipykernel_launcher.py:2: SettingWithCopyWarning: \n",
            "A value is trying to be set on a copy of a slice from a DataFrame.\n",
            "Try using .loc[row_indexer,col_indexer] = value instead\n",
            "\n",
            "See the caveats in the documentation: https://pandas.pydata.org/pandas-docs/stable/user_guide/indexing.html#returning-a-view-versus-a-copy\n",
            "  \n"
          ]
        },
        {
          "output_type": "execute_result",
          "data": {
            "text/html": [
              "<div>\n",
              "<style scoped>\n",
              "    .dataframe tbody tr th:only-of-type {\n",
              "        vertical-align: middle;\n",
              "    }\n",
              "\n",
              "    .dataframe tbody tr th {\n",
              "        vertical-align: top;\n",
              "    }\n",
              "\n",
              "    .dataframe thead th {\n",
              "        text-align: right;\n",
              "    }\n",
              "</style>\n",
              "<table border=\"1\" class=\"dataframe\">\n",
              "  <thead>\n",
              "    <tr style=\"text-align: right;\">\n",
              "      <th></th>\n",
              "      <th>prefac</th>\n",
              "    </tr>\n",
              "    <tr>\n",
              "      <th>nom_univ1</th>\n",
              "      <th></th>\n",
              "    </tr>\n",
              "  </thead>\n",
              "  <tbody>\n",
              "    <tr>\n",
              "      <th>CTPEA</th>\n",
              "      <td>0.829787</td>\n",
              "    </tr>\n",
              "    <tr>\n",
              "      <th>ENST</th>\n",
              "      <td>0.760000</td>\n",
              "    </tr>\n",
              "    <tr>\n",
              "      <th>UEH</th>\n",
              "      <td>0.772152</td>\n",
              "    </tr>\n",
              "  </tbody>\n",
              "</table>\n",
              "</div>"
            ],
            "text/plain": [
              "             prefac\n",
              "nom_univ1          \n",
              "CTPEA      0.829787\n",
              "ENST       0.760000\n",
              "UEH        0.772152"
            ]
          },
          "metadata": {},
          "execution_count": 639
        }
      ]
    },
    {
      "cell_type": "markdown",
      "metadata": {
        "id": "qJ9Ft0jkki9t"
      },
      "source": [
        "Participation en prefac"
      ]
    },
    {
      "cell_type": "code",
      "metadata": {
        "id": "sgYeG0W3lDIY"
      },
      "source": [
        "counts_on_data = data.groupby(by=\"nom_univ1\").sum()"
      ],
      "execution_count": 640,
      "outputs": []
    },
    {
      "cell_type": "code",
      "metadata": {
        "colab": {
          "base_uri": "https://localhost:8080/",
          "height": 195
        },
        "id": "fBeXs15SG9Zo",
        "outputId": "2ec83361-e723-4c1d-9756-1490f46b110c"
      },
      "source": [
        "counts_on_data"
      ],
      "execution_count": 641,
      "outputs": [
        {
          "output_type": "execute_result",
          "data": {
            "text/html": [
              "<div>\n",
              "<style scoped>\n",
              "    .dataframe tbody tr th:only-of-type {\n",
              "        vertical-align: middle;\n",
              "    }\n",
              "\n",
              "    .dataframe tbody tr th {\n",
              "        vertical-align: top;\n",
              "    }\n",
              "\n",
              "    .dataframe thead th {\n",
              "        text-align: right;\n",
              "    }\n",
              "</style>\n",
              "<table border=\"1\" class=\"dataframe\">\n",
              "  <thead>\n",
              "    <tr style=\"text-align: right;\">\n",
              "      <th></th>\n",
              "      <th>age</th>\n",
              "      <th>rcom_other</th>\n",
              "      <th>type_school_f_other</th>\n",
              "      <th>moyenne</th>\n",
              "      <th>inscri/ueh</th>\n",
              "      <th>inscri/ctpea</th>\n",
              "      <th>inscri/enst</th>\n",
              "      <th>ueh_fac/ens</th>\n",
              "      <th>ueh_fac/famv</th>\n",
              "      <th>ueh_fac/fasch</th>\n",
              "      <th>ueh_fac/fds</th>\n",
              "      <th>ueh_fac/fdse</th>\n",
              "      <th>ueh_fac/fe</th>\n",
              "      <th>ueh_fac/fla</th>\n",
              "      <th>ueh_fac/fmp</th>\n",
              "      <th>ueh_fac/fo</th>\n",
              "      <th>ueh_fac/fdsegch</th>\n",
              "      <th>ueh_fac/ierah</th>\n",
              "      <th>ueh_fac/inaghei</th>\n",
              "      <th>raison_fdsegch</th>\n",
              "      <th>raison_ens</th>\n",
              "      <th>admission/ueh</th>\n",
              "      <th>admission/ctpea</th>\n",
              "      <th>admission/enst</th>\n",
              "      <th>ueh_fac_admission/ens</th>\n",
              "      <th>ueh_fac_admission/famv</th>\n",
              "      <th>ueh_fac_admission/fasch</th>\n",
              "      <th>ueh_fac_admission/fds</th>\n",
              "      <th>ueh_fac_admission/fdse</th>\n",
              "      <th>ueh_fac_admission/fe</th>\n",
              "      <th>ueh_fac_admission/fla</th>\n",
              "      <th>ueh_fac_admission/fmp</th>\n",
              "      <th>ueh_fac_admission/fo</th>\n",
              "      <th>ueh_fac_admission/fdsegch</th>\n",
              "      <th>ueh_fac_admission/ierah</th>\n",
              "      <th>ueh_fac_admission/inaghei</th>\n",
              "      <th>paf</th>\n",
              "      <th>nb_univ</th>\n",
              "      <th>univ_1</th>\n",
              "      <th>anne1</th>\n",
              "      <th>nb_reprises</th>\n",
              "      <th>duree</th>\n",
              "      <th>univ_2</th>\n",
              "      <th>anne2</th>\n",
              "      <th>nb_reprises2</th>\n",
              "      <th>duree2</th>\n",
              "      <th>yCTPEA</th>\n",
              "      <th>yENST</th>\n",
              "      <th>yUEH</th>\n",
              "      <th>depdiff</th>\n",
              "      <th>nb_inscriptions</th>\n",
              "    </tr>\n",
              "    <tr>\n",
              "      <th>nom_univ1</th>\n",
              "      <th></th>\n",
              "      <th></th>\n",
              "      <th></th>\n",
              "      <th></th>\n",
              "      <th></th>\n",
              "      <th></th>\n",
              "      <th></th>\n",
              "      <th></th>\n",
              "      <th></th>\n",
              "      <th></th>\n",
              "      <th></th>\n",
              "      <th></th>\n",
              "      <th></th>\n",
              "      <th></th>\n",
              "      <th></th>\n",
              "      <th></th>\n",
              "      <th></th>\n",
              "      <th></th>\n",
              "      <th></th>\n",
              "      <th></th>\n",
              "      <th></th>\n",
              "      <th></th>\n",
              "      <th></th>\n",
              "      <th></th>\n",
              "      <th></th>\n",
              "      <th></th>\n",
              "      <th></th>\n",
              "      <th></th>\n",
              "      <th></th>\n",
              "      <th></th>\n",
              "      <th></th>\n",
              "      <th></th>\n",
              "      <th></th>\n",
              "      <th></th>\n",
              "      <th></th>\n",
              "      <th></th>\n",
              "      <th></th>\n",
              "      <th></th>\n",
              "      <th></th>\n",
              "      <th></th>\n",
              "      <th></th>\n",
              "      <th></th>\n",
              "      <th></th>\n",
              "      <th></th>\n",
              "      <th></th>\n",
              "      <th></th>\n",
              "      <th></th>\n",
              "      <th></th>\n",
              "      <th></th>\n",
              "      <th></th>\n",
              "      <th></th>\n",
              "    </tr>\n",
              "  </thead>\n",
              "  <tbody>\n",
              "    <tr>\n",
              "      <th>CTPEA</th>\n",
              "      <td>1091.0</td>\n",
              "      <td>0.0</td>\n",
              "      <td>0.0</td>\n",
              "      <td>334.0</td>\n",
              "      <td>31.0</td>\n",
              "      <td>47.0</td>\n",
              "      <td>12.0</td>\n",
              "      <td>5.0</td>\n",
              "      <td>1.0</td>\n",
              "      <td>1.0</td>\n",
              "      <td>14.0</td>\n",
              "      <td>16.0</td>\n",
              "      <td>0.0</td>\n",
              "      <td>0.0</td>\n",
              "      <td>0.0</td>\n",
              "      <td>0.0</td>\n",
              "      <td>1.0</td>\n",
              "      <td>0.0</td>\n",
              "      <td>16.0</td>\n",
              "      <td>0.0</td>\n",
              "      <td>0.0</td>\n",
              "      <td>26.0</td>\n",
              "      <td>47.0</td>\n",
              "      <td>8.0</td>\n",
              "      <td>2.0</td>\n",
              "      <td>0.0</td>\n",
              "      <td>0.0</td>\n",
              "      <td>9.0</td>\n",
              "      <td>13.0</td>\n",
              "      <td>0.0</td>\n",
              "      <td>0.0</td>\n",
              "      <td>0.0</td>\n",
              "      <td>0.0</td>\n",
              "      <td>0.0</td>\n",
              "      <td>0.0</td>\n",
              "      <td>11.0</td>\n",
              "      <td>12.0</td>\n",
              "      <td>20.0</td>\n",
              "      <td>0.0</td>\n",
              "      <td>191.0</td>\n",
              "      <td>42.0</td>\n",
              "      <td>190.0</td>\n",
              "      <td>0.0</td>\n",
              "      <td>26.0</td>\n",
              "      <td>8.0</td>\n",
              "      <td>40.0</td>\n",
              "      <td>0</td>\n",
              "      <td>0</td>\n",
              "      <td>0</td>\n",
              "      <td>43</td>\n",
              "      <td>90.0</td>\n",
              "    </tr>\n",
              "    <tr>\n",
              "      <th>ENST</th>\n",
              "      <td>545.0</td>\n",
              "      <td>0.0</td>\n",
              "      <td>0.0</td>\n",
              "      <td>179.0</td>\n",
              "      <td>18.0</td>\n",
              "      <td>9.0</td>\n",
              "      <td>25.0</td>\n",
              "      <td>0.0</td>\n",
              "      <td>1.0</td>\n",
              "      <td>0.0</td>\n",
              "      <td>4.0</td>\n",
              "      <td>12.0</td>\n",
              "      <td>0.0</td>\n",
              "      <td>0.0</td>\n",
              "      <td>0.0</td>\n",
              "      <td>0.0</td>\n",
              "      <td>0.0</td>\n",
              "      <td>0.0</td>\n",
              "      <td>14.0</td>\n",
              "      <td>0.0</td>\n",
              "      <td>0.0</td>\n",
              "      <td>14.0</td>\n",
              "      <td>5.0</td>\n",
              "      <td>25.0</td>\n",
              "      <td>0.0</td>\n",
              "      <td>0.0</td>\n",
              "      <td>0.0</td>\n",
              "      <td>0.0</td>\n",
              "      <td>8.0</td>\n",
              "      <td>0.0</td>\n",
              "      <td>0.0</td>\n",
              "      <td>0.0</td>\n",
              "      <td>0.0</td>\n",
              "      <td>0.0</td>\n",
              "      <td>0.0</td>\n",
              "      <td>11.0</td>\n",
              "      <td>3.0</td>\n",
              "      <td>18.0</td>\n",
              "      <td>0.0</td>\n",
              "      <td>76.0</td>\n",
              "      <td>6.0</td>\n",
              "      <td>76.0</td>\n",
              "      <td>0.0</td>\n",
              "      <td>20.0</td>\n",
              "      <td>11.0</td>\n",
              "      <td>36.0</td>\n",
              "      <td>0</td>\n",
              "      <td>0</td>\n",
              "      <td>0</td>\n",
              "      <td>21</td>\n",
              "      <td>52.0</td>\n",
              "    </tr>\n",
              "    <tr>\n",
              "      <th>UEH</th>\n",
              "      <td>1872.0</td>\n",
              "      <td>0.0</td>\n",
              "      <td>0.0</td>\n",
              "      <td>529.0</td>\n",
              "      <td>79.0</td>\n",
              "      <td>12.0</td>\n",
              "      <td>6.0</td>\n",
              "      <td>1.0</td>\n",
              "      <td>5.0</td>\n",
              "      <td>11.0</td>\n",
              "      <td>12.0</td>\n",
              "      <td>29.0</td>\n",
              "      <td>4.0</td>\n",
              "      <td>3.0</td>\n",
              "      <td>9.0</td>\n",
              "      <td>3.0</td>\n",
              "      <td>0.0</td>\n",
              "      <td>2.0</td>\n",
              "      <td>24.0</td>\n",
              "      <td>0.0</td>\n",
              "      <td>0.0</td>\n",
              "      <td>79.0</td>\n",
              "      <td>3.0</td>\n",
              "      <td>4.0</td>\n",
              "      <td>1.0</td>\n",
              "      <td>5.0</td>\n",
              "      <td>9.0</td>\n",
              "      <td>9.0</td>\n",
              "      <td>29.0</td>\n",
              "      <td>4.0</td>\n",
              "      <td>3.0</td>\n",
              "      <td>7.0</td>\n",
              "      <td>3.0</td>\n",
              "      <td>0.0</td>\n",
              "      <td>2.0</td>\n",
              "      <td>20.0</td>\n",
              "      <td>44.0</td>\n",
              "      <td>18.0</td>\n",
              "      <td>0.0</td>\n",
              "      <td>349.0</td>\n",
              "      <td>103.0</td>\n",
              "      <td>348.0</td>\n",
              "      <td>0.0</td>\n",
              "      <td>23.0</td>\n",
              "      <td>12.0</td>\n",
              "      <td>31.0</td>\n",
              "      <td>0</td>\n",
              "      <td>0</td>\n",
              "      <td>0</td>\n",
              "      <td>68</td>\n",
              "      <td>97.0</td>\n",
              "    </tr>\n",
              "  </tbody>\n",
              "</table>\n",
              "</div>"
            ],
            "text/plain": [
              "              age  rcom_other  ...  depdiff  nb_inscriptions\n",
              "nom_univ1                      ...                          \n",
              "CTPEA      1091.0         0.0  ...       43             90.0\n",
              "ENST        545.0         0.0  ...       21             52.0\n",
              "UEH        1872.0         0.0  ...       68             97.0\n",
              "\n",
              "[3 rows x 51 columns]"
            ]
          },
          "metadata": {},
          "execution_count": 641
        }
      ]
    },
    {
      "cell_type": "markdown",
      "metadata": {
        "id": "5ffbtkrgHMiz"
      },
      "source": [
        "total of inscriptions"
      ]
    },
    {
      "cell_type": "code",
      "metadata": {
        "colab": {
          "base_uri": "https://localhost:8080/"
        },
        "id": "QHeoFsOBHGF6",
        "outputId": "44d59931-47f3-42a9-9718-0fe18e8368ce"
      },
      "source": [
        "count_insc = counts_on_data[[\"inscri/ueh\",\t\"inscri/ctpea\",\t\"inscri/enst\"]]\n",
        "u = count_insc.sum(axis=0,)\n",
        "print(u, \"\\n\", u.sum())\n",
        "\n",
        "insights += \"Total subscriptions are \"+str(u.sum())"
      ],
      "execution_count": 642,
      "outputs": [
        {
          "output_type": "stream",
          "name": "stdout",
          "text": [
            "inscri/ueh      128.0\n",
            "inscri/ctpea     68.0\n",
            "inscri/enst      43.0\n",
            "dtype: float64 \n",
            " 239.0\n"
          ]
        }
      ]
    },
    {
      "cell_type": "code",
      "metadata": {
        "colab": {
          "base_uri": "https://localhost:8080/",
          "height": 304
        },
        "id": "PHDumuyLK2vX",
        "outputId": "9c387752-65be-47de-d756-9c5bec187ca8"
      },
      "source": [
        "count_insc_mean = data[['inscri/ctpea',\n",
        "       'inscri/enst', 'ueh_fac/ens', 'ueh_fac/famv',\n",
        "       'ueh_fac/fasch', 'ueh_fac/fds', 'ueh_fac/fdse', 'ueh_fac/fe',\n",
        "       'ueh_fac/fla', 'ueh_fac/fmp', 'ueh_fac/fo']]\n",
        "count_insc_mean.sum(axis=1).value_counts(normalize=True).plot(kind='bar', color='purple')\n",
        "plt.xlabel(\"Quantity of inscriptions\")\n",
        "plt.ylabel(\"percentage of respondants\")\n",
        "plt.title(\"Participants by number of applications\", fontdict=font)\n",
        "plt.savefig(\"Quantity of applications.png\")"
      ],
      "execution_count": 643,
      "outputs": [
        {
          "output_type": "display_data",
          "data": {
            "image/png": "[encoded data removed]",
            "text/plain": [
              "<Figure size 432x288 with 1 Axes>"
            ]
          },
          "metadata": {
            "needs_background": "light"
          }
        }
      ]
    },
    {
      "cell_type": "code",
      "metadata": {
        "id": "8YTPRv50S3GG"
      },
      "source": [
        "col_npl = ['raison_famv', 'raison_fasch',\n",
        "       'raison_fds', 'raison_fdse', 'raison_fe', 'raison_fla', 'raison_fmp',\n",
        "       'raison_fo', 'raison_fdsegch', 'raison_ierah', 'raison_inaghei',\n",
        "       'raison_ctpea', 'raison_enst', 'raison_ens']"
      ],
      "execution_count": 644,
      "outputs": []
    },
    {
      "cell_type": "code",
      "metadata": {
        "id": "G2UHtgy0TZ4A"
      },
      "source": [
        "\n",
        "def WordMap(x, y):\n",
        "  print(y)\n",
        "  text2 = []\n",
        "  for el in text:\n",
        "    nl = el.split(' ')\n",
        "    text2+=nl\n",
        "\n",
        "  text3 = [x for x in text2 if len(x) >= 8]\n",
        "\n",
        "  text4 = \" \".join(text3)\n",
        "\n",
        "  word_cloud = WordCloud(collocations = False, background_color = 'white',).generate(text4)\n",
        "\n",
        "  plt.imshow(word_cloud, interpolation='bilinear')\n",
        "  plt.axis(\"off\")\n",
        "  plt.show()"
      ],
      "execution_count": 645,
      "outputs": []
    },
    {
      "cell_type": "code",
      "metadata": {
        "colab": {
          "base_uri": "https://localhost:8080/",
          "height": 233
        },
        "id": "z8ivJ5u8d5Hr",
        "outputId": "83177fb7-e245-4525-aacf-c7acc04dac60"
      },
      "source": [
        "text = data['raison_ctpea'].dropna().to_list()\n",
        "WordMap(text, \"CTPEA\")\n",
        "plt.savefig(\"CTPEA raison.png\")"
      ],
      "execution_count": 646,
      "outputs": [
        {
          "output_type": "stream",
          "name": "stdout",
          "text": [
            "CTPEA\n"
          ]
        },
        {
          "output_type": "display_data",
          "data": {
            "image/png": "[encoded data removed]",
            "text/plain": [
              "<Figure size 432x288 with 1 Axes>"
            ]
          },
          "metadata": {
            "needs_background": "light"
          }
        },
        {
          "output_type": "display_data",
          "data": {
            "text/plain": [
              "<Figure size 432x288 with 0 Axes>"
            ]
          },
          "metadata": {}
        }
      ]
    },
    {
      "cell_type": "code",
      "metadata": {
        "colab": {
          "base_uri": "https://localhost:8080/",
          "height": 233
        },
        "id": "OH4NGPoYgDrT",
        "outputId": "1b4f8ee3-6676-452c-ac4a-c21ae0117e4e"
      },
      "source": [
        "text = data['raison_enst'].dropna().to_list()\n",
        "WordMap(text, \"ENST\")\n",
        "plt.show()\n",
        "plt.savefig(\"ENST raison.png\")"
      ],
      "execution_count": 647,
      "outputs": [
        {
          "output_type": "stream",
          "name": "stdout",
          "text": [
            "ENST\n"
          ]
        },
        {
          "output_type": "display_data",
          "data": {
            "image/png": "[encoded data removed]",
            "text/plain": [
              "<Figure size 432x288 with 1 Axes>"
            ]
          },
          "metadata": {
            "needs_background": "light"
          }
        },
        {
          "output_type": "display_data",
          "data": {
            "text/plain": [
              "<Figure size 432x288 with 0 Axes>"
            ]
          },
          "metadata": {}
        }
      ]
    },
    {
      "cell_type": "code",
      "metadata": {
        "colab": {
          "base_uri": "https://localhost:8080/",
          "height": 233
        },
        "id": "LMbZRKm4S5eV",
        "outputId": "aa16b7cd-55ac-43b8-c31b-d64b2754e9fb"
      },
      "source": [
        "text = data['raison_fdse'].dropna().to_list()\n",
        "WordMap(text, \"FDSE\")\n",
        "plt.savefig(\"FDSE raison1.png\")"
      ],
      "execution_count": 648,
      "outputs": [
        {
          "output_type": "stream",
          "name": "stdout",
          "text": [
            "FDSE\n"
          ]
        },
        {
          "output_type": "display_data",
          "data": {
            "image/png": "[encoded data removed]",
            "text/plain": [
              "<Figure size 432x288 with 1 Axes>"
            ]
          },
          "metadata": {
            "needs_background": "light"
          }
        },
        {
          "output_type": "display_data",
          "data": {
            "text/plain": [
              "<Figure size 432x288 with 0 Axes>"
            ]
          },
          "metadata": {}
        }
      ]
    },
    {
      "cell_type": "code",
      "metadata": {
        "colab": {
          "base_uri": "https://localhost:8080/",
          "height": 233
        },
        "id": "7Xq1PbfygPXz",
        "outputId": "a8d7649d-ef81-42b1-8827-eb48c4a4619b"
      },
      "source": [
        "text = data['raison_inaghei'].dropna().to_list()\n",
        "WordMap(text, \"INAGHEI\")\n",
        "plt.show()\n",
        "plt.savefig(\"INAGHEI raison1.png\")"
      ],
      "execution_count": 649,
      "outputs": [
        {
          "output_type": "stream",
          "name": "stdout",
          "text": [
            "INAGHEI\n"
          ]
        },
        {
          "output_type": "display_data",
          "data": {
            "image/png": "[encoded data removed]",
            "text/plain": [
              "<Figure size 432x288 with 1 Axes>"
            ]
          },
          "metadata": {
            "needs_background": "light"
          }
        },
        {
          "output_type": "display_data",
          "data": {
            "text/plain": [
              "<Figure size 432x288 with 0 Axes>"
            ]
          },
          "metadata": {}
        }
      ]
    },
    {
      "cell_type": "code",
      "metadata": {
        "colab": {
          "base_uri": "https://localhost:8080/",
          "height": 280
        },
        "id": "mU0CVBQJicnk",
        "outputId": "88b34492-8e9c-4d62-da28-14afe3196438"
      },
      "source": [
        "BivPlot(data=data,col1=\"nom_univ1\", col2=\"family\")"
      ],
      "execution_count": 650,
      "outputs": [
        {
          "output_type": "display_data",
          "data": {
            "image/png": "[encoded data removed]",
            "text/plain": [
              "<Figure size 432x288 with 1 Axes>"
            ]
          },
          "metadata": {
            "needs_background": "light"
          }
        }
      ]
    },
    {
      "cell_type": "code",
      "metadata": {
        "colab": {
          "base_uri": "https://localhost:8080/",
          "height": 280
        },
        "id": "Qy9NkY-XicfC",
        "outputId": "973cfd73-93a5-43bc-f693-a904dbf4a459"
      },
      "source": [
        "BivPlot(col1=\"nom_univ1\", col2=\"family\")"
      ],
      "execution_count": 651,
      "outputs": [
        {
          "output_type": "display_data",
          "data": {
            "image/png": "[encoded data removed]",
            "text/plain": [
              "<Figure size 432x288 with 1 Axes>"
            ]
          },
          "metadata": {
            "needs_background": "light"
          }
        }
      ]
    },
    {
      "cell_type": "code",
      "metadata": {
        "colab": {
          "base_uri": "https://localhost:8080/",
          "height": 175
        },
        "id": "MEpihKnWsApn",
        "outputId": "ceeaa1c7-9752-4b54-94f3-1440ebf049da"
      },
      "source": [
        "data[[\"nom_univ1\", \"family\"]].replace({\"Oui\":1, \"Non\":0}).groupby(by=\"nom_univ1\").mean()"
      ],
      "execution_count": 652,
      "outputs": [
        {
          "output_type": "execute_result",
          "data": {
            "text/html": [
              "<div>\n",
              "<style scoped>\n",
              "    .dataframe tbody tr th:only-of-type {\n",
              "        vertical-align: middle;\n",
              "    }\n",
              "\n",
              "    .dataframe tbody tr th {\n",
              "        vertical-align: top;\n",
              "    }\n",
              "\n",
              "    .dataframe thead th {\n",
              "        text-align: right;\n",
              "    }\n",
              "</style>\n",
              "<table border=\"1\" class=\"dataframe\">\n",
              "  <thead>\n",
              "    <tr style=\"text-align: right;\">\n",
              "      <th></th>\n",
              "      <th>family</th>\n",
              "    </tr>\n",
              "    <tr>\n",
              "      <th>nom_univ1</th>\n",
              "      <th></th>\n",
              "    </tr>\n",
              "  </thead>\n",
              "  <tbody>\n",
              "    <tr>\n",
              "      <th>CTPEA</th>\n",
              "      <td>0.702128</td>\n",
              "    </tr>\n",
              "    <tr>\n",
              "      <th>ENST</th>\n",
              "      <td>0.800000</td>\n",
              "    </tr>\n",
              "    <tr>\n",
              "      <th>UEH</th>\n",
              "      <td>0.556962</td>\n",
              "    </tr>\n",
              "  </tbody>\n",
              "</table>\n",
              "</div>"
            ],
            "text/plain": [
              "             family\n",
              "nom_univ1          \n",
              "CTPEA      0.702128\n",
              "ENST       0.800000\n",
              "UEH        0.556962"
            ]
          },
          "metadata": {},
          "execution_count": 652
        }
      ]
    },
    {
      "cell_type": "code",
      "metadata": {
        "colab": {
          "base_uri": "https://localhost:8080/",
          "height": 175
        },
        "id": "kqCYVM3nshBB",
        "outputId": "8e7b3b9f-1020-42b1-86d8-c52119659e7e"
      },
      "source": [
        "data[[\"nom_univ1\", \"scolarite_parent\"]].replace({\"Oui\":1, \"Non\":0}).groupby(by=\"nom_univ1\").mean()"
      ],
      "execution_count": 653,
      "outputs": [
        {
          "output_type": "execute_result",
          "data": {
            "text/html": [
              "<div>\n",
              "<style scoped>\n",
              "    .dataframe tbody tr th:only-of-type {\n",
              "        vertical-align: middle;\n",
              "    }\n",
              "\n",
              "    .dataframe tbody tr th {\n",
              "        vertical-align: top;\n",
              "    }\n",
              "\n",
              "    .dataframe thead th {\n",
              "        text-align: right;\n",
              "    }\n",
              "</style>\n",
              "<table border=\"1\" class=\"dataframe\">\n",
              "  <thead>\n",
              "    <tr style=\"text-align: right;\">\n",
              "      <th></th>\n",
              "      <th>scolarite_parent</th>\n",
              "    </tr>\n",
              "    <tr>\n",
              "      <th>nom_univ1</th>\n",
              "      <th></th>\n",
              "    </tr>\n",
              "  </thead>\n",
              "  <tbody>\n",
              "    <tr>\n",
              "      <th>CTPEA</th>\n",
              "      <td>0.893617</td>\n",
              "    </tr>\n",
              "    <tr>\n",
              "      <th>ENST</th>\n",
              "      <td>0.960000</td>\n",
              "    </tr>\n",
              "    <tr>\n",
              "      <th>UEH</th>\n",
              "      <td>0.772152</td>\n",
              "    </tr>\n",
              "  </tbody>\n",
              "</table>\n",
              "</div>"
            ],
            "text/plain": [
              "           scolarite_parent\n",
              "nom_univ1                  \n",
              "CTPEA              0.893617\n",
              "ENST               0.960000\n",
              "UEH                0.772152"
            ]
          },
          "metadata": {},
          "execution_count": 653
        }
      ]
    },
    {
      "cell_type": "code",
      "metadata": {
        "id": "gGELbTkjuY6N",
        "colab": {
          "base_uri": "https://localhost:8080/",
          "height": 175
        },
        "outputId": "5f68b70a-c135-4c85-db6b-f32f94c864be"
      },
      "source": [
        "data[[\"nom_univ1\", \"scolarite_parent\"]].replace({\"Oui\":1, \"Non\":0}).groupby(by=\"nom_univ1\").sum()"
      ],
      "execution_count": 654,
      "outputs": [
        {
          "output_type": "execute_result",
          "data": {
            "text/html": [
              "<div>\n",
              "<style scoped>\n",
              "    .dataframe tbody tr th:only-of-type {\n",
              "        vertical-align: middle;\n",
              "    }\n",
              "\n",
              "    .dataframe tbody tr th {\n",
              "        vertical-align: top;\n",
              "    }\n",
              "\n",
              "    .dataframe thead th {\n",
              "        text-align: right;\n",
              "    }\n",
              "</style>\n",
              "<table border=\"1\" class=\"dataframe\">\n",
              "  <thead>\n",
              "    <tr style=\"text-align: right;\">\n",
              "      <th></th>\n",
              "      <th>scolarite_parent</th>\n",
              "    </tr>\n",
              "    <tr>\n",
              "      <th>nom_univ1</th>\n",
              "      <th></th>\n",
              "    </tr>\n",
              "  </thead>\n",
              "  <tbody>\n",
              "    <tr>\n",
              "      <th>CTPEA</th>\n",
              "      <td>42</td>\n",
              "    </tr>\n",
              "    <tr>\n",
              "      <th>ENST</th>\n",
              "      <td>24</td>\n",
              "    </tr>\n",
              "    <tr>\n",
              "      <th>UEH</th>\n",
              "      <td>61</td>\n",
              "    </tr>\n",
              "  </tbody>\n",
              "</table>\n",
              "</div>"
            ],
            "text/plain": [
              "           scolarite_parent\n",
              "nom_univ1                  \n",
              "CTPEA                    42\n",
              "ENST                     24\n",
              "UEH                      61"
            ]
          },
          "metadata": {},
          "execution_count": 654
        }
      ]
    },
    {
      "cell_type": "code",
      "metadata": {
        "id": "erP4PZ8U0LG-",
        "colab": {
          "base_uri": "https://localhost:8080/"
        },
        "outputId": "776afdb9-d945-42db-f7c4-ba66a1d50c12"
      },
      "source": [
        "#UEH      79\n",
        "#CTPEA    47\n",
        "#ENST     25\n",
        "\n",
        "from statsmodels.stats.proportion import proportions_ztest\n",
        "stat, pval = proportions_ztest([42, 24], [47,25])\n",
        "print(\"CTPEA vs ENST\")\n",
        "print('{0:0.3f}'.format(pval))\n",
        "if pval < .05:\n",
        "  print(\"We reject the null hypothesis\")\n",
        "else:\n",
        "  print(\"The proportion are the same at 95% of confidence\")\n",
        "\n",
        "\n",
        "stat, pval = proportions_ztest([61, 24], [79,25])\n",
        "print(\"\\n\\nUEH vs ENST\")\n",
        "print('{0:0.3f}'.format(pval))\n",
        "if pval < .05:\n",
        "  print(\"We reject the null hypothesis. The proportion are different\")\n",
        "else:\n",
        "  print(\"The proportion are the same at 95% of confidence\")\n"
      ],
      "execution_count": 655,
      "outputs": [
        {
          "output_type": "stream",
          "name": "stdout",
          "text": [
            "CTPEA vs ENST\n",
            "0.332\n",
            "The proportion are the same at 95% of confidence\n",
            "\n",
            "\n",
            "UEH vs ENST\n",
            "0.034\n",
            "We reject the null hypothesis. The proportion are different\n"
          ]
        }
      ]
    },
    {
      "cell_type": "code",
      "metadata": {
        "id": "Qv8FihrfYk3z"
      },
      "source": [
        "list_for_cl = []\n",
        "\n",
        "def chartrelation(data, col1 = \"\", col2 = \"\",):\n",
        "  tab = pd.crosstab(data[col1], data[col2])\n",
        "  stat, p, dof, expected = stats.chi2_contingency(tab)\n",
        "\n",
        "  f = \"Test Khi square of independance betwenn the Univesity and the educational system.\\n\"\n",
        "  if p < 0.1:\n",
        "    ft = \"We reject the null Hypothesis of independance between \"+col1+\" and \"+col2+\" .\"\n",
        "    list_for_cl.append(col2)\n",
        "  else:\n",
        "    ft = \"The data don't give us enough informations to say that \"+col1+\" and \"+col2+\" are dependant.\"\n",
        "  f+=ft\n",
        "  print(f)\n",
        "  return f+\"\\n\"\n",
        "\n",
        "## LAUREATE FUNCTION TO PERFORM"
      ],
      "execution_count": 656,
      "outputs": []
    },
    {
      "cell_type": "code",
      "metadata": {
        "id": "300g4-MebJSl",
        "colab": {
          "base_uri": "https://localhost:8080/"
        },
        "outputId": "4dbf53d6-cf69-472a-91af-16e170ad6188"
      },
      "source": [
        "insights += chartrelation(data, \"nom_univ1\", \"system\")"
      ],
      "execution_count": 657,
      "outputs": [
        {
          "output_type": "stream",
          "name": "stdout",
          "text": [
            "Test Khi square of independance betwenn the Univesity and the educational system.\n",
            "We reject the null Hypothesis of independance between nom_univ1 and system .\n"
          ]
        }
      ]
    },
    {
      "cell_type": "code",
      "metadata": {
        "colab": {
          "base_uri": "https://localhost:8080/"
        },
        "id": "nFAY3ZNmAf48",
        "outputId": "ff92f955-abf8-4be2-b952-95324edcefc2"
      },
      "source": [
        "insights += chartrelation(data, \"nom_univ1\", \"filiere\")"
      ],
      "execution_count": 658,
      "outputs": [
        {
          "output_type": "stream",
          "name": "stdout",
          "text": [
            "Test Khi square of independance betwenn the Univesity and the educational system.\n",
            "We reject the null Hypothesis of independance between nom_univ1 and filiere .\n"
          ]
        }
      ]
    },
    {
      "cell_type": "code",
      "metadata": {
        "colab": {
          "base_uri": "https://localhost:8080/"
        },
        "id": "9-YFTwvxAovu",
        "outputId": "a9dd5c0a-6aa6-40e8-afcd-babf5b0f1f8b"
      },
      "source": [
        "insights += chartrelation(data, \"nom_univ1\", \"section\")"
      ],
      "execution_count": 659,
      "outputs": [
        {
          "output_type": "stream",
          "name": "stdout",
          "text": [
            "Test Khi square of independance betwenn the Univesity and the educational system.\n",
            "We reject the null Hypothesis of independance between nom_univ1 and section .\n"
          ]
        }
      ]
    },
    {
      "cell_type": "code",
      "metadata": {
        "colab": {
          "base_uri": "https://localhost:8080/"
        },
        "id": "drdcW-o5A_Hc",
        "outputId": "0c5f4ed4-bfc3-449a-ecdd-9d3849537731"
      },
      "source": [
        "insights += chartrelation(data, \"nom_univ1\", \"let_level\")"
      ],
      "execution_count": 660,
      "outputs": [
        {
          "output_type": "stream",
          "name": "stdout",
          "text": [
            "Test Khi square of independance betwenn the Univesity and the educational system.\n",
            "The data don't give us enough informations to say that nom_univ1 and let_level are dependant.\n"
          ]
        }
      ]
    },
    {
      "cell_type": "code",
      "metadata": {
        "colab": {
          "base_uri": "https://localhost:8080/"
        },
        "id": "Mr-lZgQrB9fv",
        "outputId": "d041c285-fe44-45fd-db0e-583b7575d900"
      },
      "source": [
        "insights += chartrelation(data, \"nom_univ1\", \"parent_revenu\")"
      ],
      "execution_count": 661,
      "outputs": [
        {
          "output_type": "stream",
          "name": "stdout",
          "text": [
            "Test Khi square of independance betwenn the Univesity and the educational system.\n",
            "The data don't give us enough informations to say that nom_univ1 and parent_revenu are dependant.\n"
          ]
        }
      ]
    },
    {
      "cell_type": "code",
      "metadata": {
        "id": "O5fh2EpkDD91",
        "colab": {
          "base_uri": "https://localhost:8080/"
        },
        "outputId": "d74df7db-61c1-4c70-e496-135158845970"
      },
      "source": [
        "insights += chartrelation(data, \"nom_univ1\", \"parent_revenu\")"
      ],
      "execution_count": 662,
      "outputs": [
        {
          "output_type": "stream",
          "name": "stdout",
          "text": [
            "Test Khi square of independance betwenn the Univesity and the educational system.\n",
            "The data don't give us enough informations to say that nom_univ1 and parent_revenu are dependant.\n"
          ]
        }
      ]
    },
    {
      "cell_type": "markdown",
      "metadata": {
        "id": "AErLlksbkc-2"
      },
      "source": [
        "# **MACHINE LEARNING**"
      ]
    },
    {
      "cell_type": "code",
      "metadata": {
        "id": "tt0jgo9rPnAY"
      },
      "source": [
        "# lIST UTILITIES"
      ],
      "execution_count": 663,
      "outputs": []
    },
    {
      "cell_type": "code",
      "metadata": {
        "id": "iQNruixBPpHI"
      },
      "source": [
        "list_for_ml = ['sexe', 'type_school_f', 'type_school_t', 'section', 'filiere', 'let_level', 'prefac', 'parent_revenu', 'let_level',]\n",
        "\n",
        "univs = ['ctpea', 'ueh', 'enst']"
      ],
      "execution_count": 664,
      "outputs": []
    },
    {
      "cell_type": "markdown",
      "metadata": {
        "id": "cPku4aVrkmRP"
      },
      "source": [
        "## **PROFILING FOR EACH ENTITY**"
      ]
    },
    {
      "cell_type": "markdown",
      "metadata": {
        "id": "MoljcL6okv7V"
      },
      "source": [
        "> ## **Profil  for CTPEA**"
      ]
    },
    {
      "cell_type": "code",
      "metadata": {
        "id": "WXseOXzAkjN9"
      },
      "source": [
        "ctpeaD = data[(data['inscri/ctpea'] == 1)]['admission/ctpea']\n",
        "ctpeaD_df = data[(data['inscri/ctpea'] == 1)]"
      ],
      "execution_count": 665,
      "outputs": []
    },
    {
      "cell_type": "code",
      "metadata": {
        "id": "AA7oPbNULdwU"
      },
      "source": [
        "df_for_ml_n = ctpeaD_df[['moyenne',]]"
      ],
      "execution_count": 666,
      "outputs": []
    },
    {
      "cell_type": "code",
      "metadata": {
        "colab": {
          "base_uri": "https://localhost:8080/",
          "height": 424
        },
        "id": "wQ9DRtIJrwtK",
        "outputId": "157b84ce-88c4-4e14-97ef-894ed5397bb3"
      },
      "source": [
        "df_for_ml_n"
      ],
      "execution_count": 667,
      "outputs": [
        {
          "output_type": "execute_result",
          "data": {
            "text/html": [
              "<div>\n",
              "<style scoped>\n",
              "    .dataframe tbody tr th:only-of-type {\n",
              "        vertical-align: middle;\n",
              "    }\n",
              "\n",
              "    .dataframe tbody tr th {\n",
              "        vertical-align: top;\n",
              "    }\n",
              "\n",
              "    .dataframe thead th {\n",
              "        text-align: right;\n",
              "    }\n",
              "</style>\n",
              "<table border=\"1\" class=\"dataframe\">\n",
              "  <thead>\n",
              "    <tr style=\"text-align: right;\">\n",
              "      <th></th>\n",
              "      <th>moyenne</th>\n",
              "    </tr>\n",
              "  </thead>\n",
              "  <tbody>\n",
              "    <tr>\n",
              "      <th>1</th>\n",
              "      <td>8.0</td>\n",
              "    </tr>\n",
              "    <tr>\n",
              "      <th>2</th>\n",
              "      <td>7.0</td>\n",
              "    </tr>\n",
              "    <tr>\n",
              "      <th>5</th>\n",
              "      <td>7.0</td>\n",
              "    </tr>\n",
              "    <tr>\n",
              "      <th>6</th>\n",
              "      <td>7.0</td>\n",
              "    </tr>\n",
              "    <tr>\n",
              "      <th>10</th>\n",
              "      <td>8.0</td>\n",
              "    </tr>\n",
              "    <tr>\n",
              "      <th>...</th>\n",
              "      <td>...</td>\n",
              "    </tr>\n",
              "    <tr>\n",
              "      <th>147</th>\n",
              "      <td>6.0</td>\n",
              "    </tr>\n",
              "    <tr>\n",
              "      <th>149</th>\n",
              "      <td>6.0</td>\n",
              "    </tr>\n",
              "    <tr>\n",
              "      <th>155</th>\n",
              "      <td>8.0</td>\n",
              "    </tr>\n",
              "    <tr>\n",
              "      <th>156</th>\n",
              "      <td>8.0</td>\n",
              "    </tr>\n",
              "    <tr>\n",
              "      <th>160</th>\n",
              "      <td>7.0</td>\n",
              "    </tr>\n",
              "  </tbody>\n",
              "</table>\n",
              "<p>68 rows × 1 columns</p>\n",
              "</div>"
            ],
            "text/plain": [
              "     moyenne\n",
              "1        8.0\n",
              "2        7.0\n",
              "5        7.0\n",
              "6        7.0\n",
              "10       8.0\n",
              "..       ...\n",
              "147      6.0\n",
              "149      6.0\n",
              "155      8.0\n",
              "156      8.0\n",
              "160      7.0\n",
              "\n",
              "[68 rows x 1 columns]"
            ]
          },
          "metadata": {},
          "execution_count": 667
        }
      ]
    },
    {
      "cell_type": "code",
      "metadata": {
        "colab": {
          "base_uri": "https://localhost:8080/"
        },
        "id": "dHSzKlKiecIO",
        "outputId": "da1807e6-ace4-4570-dfd4-ba050b7e432d"
      },
      "source": [
        "print(sum(ctpeaD), len(ctpeaD))"
      ],
      "execution_count": 668,
      "outputs": [
        {
          "output_type": "stream",
          "name": "stdout",
          "text": [
            "55.0 68\n"
          ]
        }
      ]
    },
    {
      "cell_type": "code",
      "metadata": {
        "id": "MyRJEKtRNjfz"
      },
      "source": [
        "\n",
        "for el in list_for_ml:\n",
        "  new_df = pd.get_dummies(ctpeaD_df[[el]], prefix=None, prefix_sep='')\n",
        "  df_for_ml_n = pd.concat([df_for_ml_n, new_df.iloc[:,:-1]], axis=1)\n"
      ],
      "execution_count": 669,
      "outputs": []
    },
    {
      "cell_type": "code",
      "metadata": {
        "colab": {
          "base_uri": "https://localhost:8080/"
        },
        "id": "40AdpAFSJ7e0",
        "outputId": "bd9a9126-4cf6-4a08-9fbd-8252357f845b"
      },
      "source": [
        "from statsmodels.discrete.discrete_model import Logit, Probit\n",
        "\n",
        "df_for_ml_n = np.asarray(df_for_ml_n, dtype=float)\n",
        "ctpeaD = np.asarray(ctpeaD)\n",
        "model = Probit(ctpeaD, df_for_ml_n, check_rank=True)\n",
        "probit_model = model.fit()\n",
        "print(probit_model.summary())\n"
      ],
      "execution_count": 670,
      "outputs": [
        {
          "output_type": "stream",
          "name": "stdout",
          "text": [
            "Warning: Maximum number of iterations has been exceeded.\n",
            "         Current function value: 0.369439\n",
            "         Iterations: 35\n",
            "                          Probit Regression Results                           \n",
            "==============================================================================\n",
            "Dep. Variable:                      y   No. Observations:                   68\n",
            "Model:                         Probit   Df Residuals:                       50\n",
            "Method:                           MLE   Df Model:                           17\n",
            "Date:                Sat, 25 Sep 2021   Pseudo R-squ.:                  0.2428\n",
            "Time:                        17:21:24   Log-Likelihood:                -25.122\n",
            "converged:                      False   LL-Null:                       -33.179\n",
            "Covariance Type:            nonrobust   LLR p-value:                    0.5158\n",
            "==============================================================================\n",
            "                 coef    std err          z      P>|z|      [0.025      0.975]\n",
            "------------------------------------------------------------------------------\n",
            "x1             0.5815      0.364      1.598      0.110      -0.132       1.295\n",
            "x2            -0.5155      0.593     -0.869      0.385      -1.678       0.647\n",
            "x3             4.6082   8881.856      0.001      1.000   -1.74e+04    1.74e+04\n",
            "x4            -0.4402      0.636     -0.692      0.489      -1.687       0.806\n",
            "x5            -0.9637      1.628     -0.592      0.554      -4.155       2.228\n",
            "x6            -2.8145      2.351     -1.197      0.231      -7.423       1.794\n",
            "x7            -2.5503      2.277     -1.120      0.263      -7.013       1.912\n",
            "x8            -2.5033      2.547     -0.983      0.326      -7.496       2.489\n",
            "x9             0.6128      0.538      1.138      0.255      -0.442       1.668\n",
            "x10            0.3796      1.573      0.241      0.809      -2.704       3.463\n",
            "x11            1.3614      0.887      1.534      0.125      -0.378       3.101\n",
            "x12            0.3848    2.5e+08   1.54e-09      1.000   -4.89e+08    4.89e+08\n",
            "x13            4.0565   3.09e+15   1.31e-15      1.000   -6.06e+15    6.06e+15\n",
            "x14            0.0433   2.59e+08   1.67e-10      1.000   -5.07e+08    5.07e+08\n",
            "x15            4.0583        nan        nan        nan         nan         nan\n",
            "x16           -0.2991        nan        nan        nan         nan         nan\n",
            "x17            0.6945      0.860      0.807      0.419      -0.991       2.380\n",
            "x18           -1.1886      0.533     -2.228      0.026      -2.234      -0.143\n",
            "x19            0.3848    2.5e+08   1.54e-09      1.000   -4.89e+08    4.89e+08\n",
            "x20            4.0565   3.09e+15   1.31e-15      1.000   -6.06e+15    6.06e+15\n",
            "x21            0.0433   2.59e+08   1.67e-10      1.000   -5.07e+08    5.07e+08\n",
            "x22            4.0583        nan        nan        nan         nan         nan\n",
            "x23           -0.2991        nan        nan        nan         nan         nan\n",
            "==============================================================================\n"
          ]
        },
        {
          "output_type": "stream",
          "name": "stderr",
          "text": [
            "/usr/local/lib/python3.7/dist-packages/statsmodels/base/model.py:512: ConvergenceWarning: Maximum Likelihood optimization failed to converge. Check mle_retvals\n",
            "  \"Check mle_retvals\", ConvergenceWarning)\n",
            "/usr/local/lib/python3.7/dist-packages/statsmodels/base/model.py:1286: RuntimeWarning: invalid value encountered in sqrt\n",
            "  bse_ = np.sqrt(np.diag(self.cov_params()))\n"
          ]
        }
      ]
    },
    {
      "cell_type": "code",
      "metadata": {
        "id": "JV86TkrfRqPV",
        "colab": {
          "base_uri": "https://localhost:8080/"
        },
        "outputId": "21d771bd-14b9-4269-bd9b-28dbc8c7d974"
      },
      "source": [
        "probit_model.pred_table()"
      ],
      "execution_count": 671,
      "outputs": [
        {
          "output_type": "execute_result",
          "data": {
            "text/plain": [
              "array([[ 3., 10.],\n",
              "       [ 1., 54.]])"
            ]
          },
          "metadata": {},
          "execution_count": 671
        }
      ]
    },
    {
      "cell_type": "code",
      "metadata": {
        "colab": {
          "base_uri": "https://localhost:8080/"
        },
        "id": "hsOVo--oPdFb",
        "outputId": "5618baae-6bb0-490c-efb0-45ece6e5b1fe"
      },
      "source": [
        "print(\"Accuracy : \", (3+54)*100/(3+54+10+1),\"%\")\n",
        "print(\"Recall : \",round((54)*100/(54+1),2),\" %\")\n",
        "print(\"Precision : \",round((54)*100/(54+10),2),\" %\")"
      ],
      "execution_count": 701,
      "outputs": [
        {
          "output_type": "stream",
          "name": "stdout",
          "text": [
            "Accuracy :  83.82352941176471 %\n",
            "Recall :  98.18  %\n",
            "Precision :  84.38  %\n"
          ]
        }
      ]
    },
    {
      "cell_type": "code",
      "metadata": {
        "id": "3YNXXj3GsfAt"
      },
      "source": [
        ""
      ],
      "execution_count": 671,
      "outputs": []
    },
    {
      "cell_type": "markdown",
      "metadata": {
        "id": "ojBC0c9pPTEo"
      },
      "source": [
        "> ## **Profil  for ENST**"
      ]
    },
    {
      "cell_type": "code",
      "metadata": {
        "id": "LrBMSlPJlMuN"
      },
      "source": [
        "enstD = data[(data['inscri/enst'] == 1)]['admission/enst']\n",
        "enstD_df = data[(data['inscri/enst'] == 1)]"
      ],
      "execution_count": 672,
      "outputs": []
    },
    {
      "cell_type": "code",
      "metadata": {
        "id": "tn0Kc5rSZ8Tf"
      },
      "source": [
        "df_for_ml_n2 = enstD_df[['moyenne',]]"
      ],
      "execution_count": 673,
      "outputs": []
    },
    {
      "cell_type": "code",
      "metadata": {
        "id": "55lOoh8MaC-v"
      },
      "source": [
        "\n",
        "for el in list_for_ml:\n",
        "  new_df2 = pd.get_dummies(enstD_df[[el]], prefix=None, prefix_sep='', dummy_na=False)\n",
        "  df_for_ml_n2 = pd.concat([df_for_ml_n2, new_df2.iloc[:,:-1]], axis=1,)\n"
      ],
      "execution_count": 674,
      "outputs": []
    },
    {
      "cell_type": "code",
      "metadata": {
        "colab": {
          "base_uri": "https://localhost:8080/"
        },
        "id": "STNnHAlbtoER",
        "outputId": "73e706b5-5b74-499b-c176-608d9d8a3c79"
      },
      "source": [
        "print(sum(enstD),len(enstD))"
      ],
      "execution_count": 675,
      "outputs": [
        {
          "output_type": "stream",
          "name": "stdout",
          "text": [
            "37.0 43\n"
          ]
        }
      ]
    },
    {
      "cell_type": "code",
      "metadata": {
        "id": "-PX_5Xhp-CJe",
        "colab": {
          "base_uri": "https://localhost:8080/"
        },
        "outputId": "90712a7a-82e1-4fb4-d0b3-ff8409411aed"
      },
      "source": [
        "df_for_ml_n2.sum(axis=0)"
      ],
      "execution_count": 676,
      "outputs": [
        {
          "output_type": "execute_result",
          "data": {
            "text/plain": [
              "moyenne                                                       305.0\n",
              "sexeFeminin                                                    12.0\n",
              "sexeJe ne veux pas préciser                                     1.0\n",
              "type_school_fCongréganiste (Frères, Soeurs)                    24.0\n",
              "type_school_fLycee                                              4.0\n",
              "type_school_tCongréganiste (Frères, Soeurs)                    27.0\n",
              "type_school_tLycee                                              7.0\n",
              "sectionC                                                       25.0\n",
              "filiereSES                                                      3.0\n",
              "filiereSMP                                                      7.0\n",
              "let_levelBalance(e)                                             9.0\n",
              "let_levelBon en chiffre et nul(le) en lettre                    1.0\n",
              "let_levelJ'étais cale en chiffre et en lettre/mémorisation     15.0\n",
              "let_levelMeilleur en chiffre qu'en lettre                      12.0\n",
              "let_levelMeilleur(e) en lettre/mémorisation qu'en chiffre       5.0\n",
              "prefacNon                                                      10.0\n",
              "parent_revenuNon                                               17.0\n",
              "let_levelBalance(e)                                             9.0\n",
              "let_levelBon en chiffre et nul(le) en lettre                    1.0\n",
              "let_levelJ'étais cale en chiffre et en lettre/mémorisation     15.0\n",
              "let_levelMeilleur en chiffre qu'en lettre                      12.0\n",
              "let_levelMeilleur(e) en lettre/mémorisation qu'en chiffre       5.0\n",
              "dtype: float64"
            ]
          },
          "metadata": {},
          "execution_count": 676
        }
      ]
    },
    {
      "cell_type": "code",
      "metadata": {
        "id": "dqCpTVrQy_7B"
      },
      "source": [
        "df_for_ml_n2 = pd.concat([enstD, df_for_ml_n2], axis=1,)"
      ],
      "execution_count": 677,
      "outputs": []
    },
    {
      "cell_type": "code",
      "metadata": {
        "colab": {
          "base_uri": "https://localhost:8080/"
        },
        "id": "rqZk26ZIw0lR",
        "outputId": "520fe0a8-e2a7-4ca5-809f-fc48b0be5182"
      },
      "source": [
        "df_for_ml_n2.drop_duplicates(inplace=True)\n",
        "print(len(df_for_ml_n2))"
      ],
      "execution_count": 678,
      "outputs": [
        {
          "output_type": "stream",
          "name": "stdout",
          "text": [
            "41\n"
          ]
        }
      ]
    },
    {
      "cell_type": "code",
      "metadata": {
        "colab": {
          "base_uri": "https://localhost:8080/",
          "height": 278
        },
        "id": "iBQo8IAu1sqQ",
        "outputId": "6d77e168-0ff5-4b28-ec17-b7d5b526131b"
      },
      "source": [
        "df_for_ml_n2.head()"
      ],
      "execution_count": 679,
      "outputs": [
        {
          "output_type": "execute_result",
          "data": {
            "text/html": [
              "<div>\n",
              "<style scoped>\n",
              "    .dataframe tbody tr th:only-of-type {\n",
              "        vertical-align: middle;\n",
              "    }\n",
              "\n",
              "    .dataframe tbody tr th {\n",
              "        vertical-align: top;\n",
              "    }\n",
              "\n",
              "    .dataframe thead th {\n",
              "        text-align: right;\n",
              "    }\n",
              "</style>\n",
              "<table border=\"1\" class=\"dataframe\">\n",
              "  <thead>\n",
              "    <tr style=\"text-align: right;\">\n",
              "      <th></th>\n",
              "      <th>admission/enst</th>\n",
              "      <th>moyenne</th>\n",
              "      <th>sexeFeminin</th>\n",
              "      <th>sexeJe ne veux pas préciser</th>\n",
              "      <th>type_school_fCongréganiste (Frères, Soeurs)</th>\n",
              "      <th>type_school_fLycee</th>\n",
              "      <th>type_school_tCongréganiste (Frères, Soeurs)</th>\n",
              "      <th>type_school_tLycee</th>\n",
              "      <th>sectionC</th>\n",
              "      <th>filiereSES</th>\n",
              "      <th>filiereSMP</th>\n",
              "      <th>let_levelBalance(e)</th>\n",
              "      <th>let_levelBon en chiffre et nul(le) en lettre</th>\n",
              "      <th>let_levelJ'étais cale en chiffre et en lettre/mémorisation</th>\n",
              "      <th>let_levelMeilleur en chiffre qu'en lettre</th>\n",
              "      <th>let_levelMeilleur(e) en lettre/mémorisation qu'en chiffre</th>\n",
              "      <th>prefacNon</th>\n",
              "      <th>parent_revenuNon</th>\n",
              "      <th>let_levelBalance(e)</th>\n",
              "      <th>let_levelBon en chiffre et nul(le) en lettre</th>\n",
              "      <th>let_levelJ'étais cale en chiffre et en lettre/mémorisation</th>\n",
              "      <th>let_levelMeilleur en chiffre qu'en lettre</th>\n",
              "      <th>let_levelMeilleur(e) en lettre/mémorisation qu'en chiffre</th>\n",
              "    </tr>\n",
              "  </thead>\n",
              "  <tbody>\n",
              "    <tr>\n",
              "      <th>4</th>\n",
              "      <td>1.0</td>\n",
              "      <td>6.0</td>\n",
              "      <td>0</td>\n",
              "      <td>0</td>\n",
              "      <td>0</td>\n",
              "      <td>1</td>\n",
              "      <td>0</td>\n",
              "      <td>1</td>\n",
              "      <td>1</td>\n",
              "      <td>0</td>\n",
              "      <td>0</td>\n",
              "      <td>1</td>\n",
              "      <td>0</td>\n",
              "      <td>0</td>\n",
              "      <td>0</td>\n",
              "      <td>0</td>\n",
              "      <td>0</td>\n",
              "      <td>0</td>\n",
              "      <td>1</td>\n",
              "      <td>0</td>\n",
              "      <td>0</td>\n",
              "      <td>0</td>\n",
              "      <td>0</td>\n",
              "    </tr>\n",
              "    <tr>\n",
              "      <th>6</th>\n",
              "      <td>1.0</td>\n",
              "      <td>7.0</td>\n",
              "      <td>0</td>\n",
              "      <td>0</td>\n",
              "      <td>1</td>\n",
              "      <td>0</td>\n",
              "      <td>1</td>\n",
              "      <td>0</td>\n",
              "      <td>1</td>\n",
              "      <td>0</td>\n",
              "      <td>0</td>\n",
              "      <td>0</td>\n",
              "      <td>0</td>\n",
              "      <td>0</td>\n",
              "      <td>1</td>\n",
              "      <td>0</td>\n",
              "      <td>0</td>\n",
              "      <td>0</td>\n",
              "      <td>0</td>\n",
              "      <td>0</td>\n",
              "      <td>0</td>\n",
              "      <td>1</td>\n",
              "      <td>0</td>\n",
              "    </tr>\n",
              "    <tr>\n",
              "      <th>7</th>\n",
              "      <td>1.0</td>\n",
              "      <td>8.0</td>\n",
              "      <td>0</td>\n",
              "      <td>0</td>\n",
              "      <td>0</td>\n",
              "      <td>0</td>\n",
              "      <td>0</td>\n",
              "      <td>0</td>\n",
              "      <td>1</td>\n",
              "      <td>0</td>\n",
              "      <td>0</td>\n",
              "      <td>0</td>\n",
              "      <td>0</td>\n",
              "      <td>1</td>\n",
              "      <td>0</td>\n",
              "      <td>0</td>\n",
              "      <td>1</td>\n",
              "      <td>1</td>\n",
              "      <td>0</td>\n",
              "      <td>0</td>\n",
              "      <td>1</td>\n",
              "      <td>0</td>\n",
              "      <td>0</td>\n",
              "    </tr>\n",
              "    <tr>\n",
              "      <th>8</th>\n",
              "      <td>1.0</td>\n",
              "      <td>5.0</td>\n",
              "      <td>1</td>\n",
              "      <td>0</td>\n",
              "      <td>0</td>\n",
              "      <td>1</td>\n",
              "      <td>0</td>\n",
              "      <td>1</td>\n",
              "      <td>0</td>\n",
              "      <td>0</td>\n",
              "      <td>0</td>\n",
              "      <td>0</td>\n",
              "      <td>0</td>\n",
              "      <td>0</td>\n",
              "      <td>0</td>\n",
              "      <td>1</td>\n",
              "      <td>0</td>\n",
              "      <td>0</td>\n",
              "      <td>0</td>\n",
              "      <td>0</td>\n",
              "      <td>0</td>\n",
              "      <td>0</td>\n",
              "      <td>1</td>\n",
              "    </tr>\n",
              "    <tr>\n",
              "      <th>10</th>\n",
              "      <td>1.0</td>\n",
              "      <td>8.0</td>\n",
              "      <td>0</td>\n",
              "      <td>0</td>\n",
              "      <td>0</td>\n",
              "      <td>0</td>\n",
              "      <td>0</td>\n",
              "      <td>0</td>\n",
              "      <td>1</td>\n",
              "      <td>0</td>\n",
              "      <td>0</td>\n",
              "      <td>0</td>\n",
              "      <td>0</td>\n",
              "      <td>1</td>\n",
              "      <td>0</td>\n",
              "      <td>0</td>\n",
              "      <td>1</td>\n",
              "      <td>0</td>\n",
              "      <td>0</td>\n",
              "      <td>0</td>\n",
              "      <td>1</td>\n",
              "      <td>0</td>\n",
              "      <td>0</td>\n",
              "    </tr>\n",
              "  </tbody>\n",
              "</table>\n",
              "</div>"
            ],
            "text/plain": [
              "    admission/enst  ...  let_levelMeilleur(e) en lettre/mémorisation qu'en chiffre\n",
              "4              1.0  ...                                                  0        \n",
              "6              1.0  ...                                                  0        \n",
              "7              1.0  ...                                                  0        \n",
              "8              1.0  ...                                                  1        \n",
              "10             1.0  ...                                                  0        \n",
              "\n",
              "[5 rows x 23 columns]"
            ]
          },
          "metadata": {},
          "execution_count": 679
        }
      ]
    },
    {
      "cell_type": "code",
      "metadata": {
        "id": "lhz1HjF0aWRw",
        "colab": {
          "base_uri": "https://localhost:8080/",
          "height": 539
        },
        "outputId": "6fdfde9c-2e0a-4fc0-81cb-a322c170c7a6"
      },
      "source": [
        "#enstD = np.asarray(df_for_ml_n2['admission/enst'])\n",
        "#df_for_ml_n2 = df_for_ml_n2.drop(columns=[\"admission/enst\"])\n",
        "#df_for_ml_n2 = np.asarray(df_for_ml_n2, dtype=float)\n",
        "#model2 = Logit(enstD, df_for_ml_n2, check_rank=True, )\n",
        "#probit_model2 = model2.fit()\n",
        "#print(probit_model2.summary())"
      ],
      "execution_count": 680,
      "outputs": [
        {
          "output_type": "stream",
          "name": "stdout",
          "text": [
            "Warning: Maximum number of iterations has been exceeded.\n",
            "         Current function value: inf\n",
            "         Iterations: 35\n"
          ]
        },
        {
          "output_type": "stream",
          "name": "stderr",
          "text": [
            "/usr/local/lib/python3.7/dist-packages/statsmodels/discrete/discrete_model.py:1736: RuntimeWarning: overflow encountered in exp\n",
            "  return 1/(1+np.exp(-X))\n",
            "/usr/local/lib/python3.7/dist-packages/statsmodels/discrete/discrete_model.py:1789: RuntimeWarning: divide by zero encountered in log\n",
            "  return np.sum(np.log(self.cdf(q*np.dot(X,params))))\n"
          ]
        },
        {
          "output_type": "error",
          "ename": "LinAlgError",
          "evalue": "ignored",
          "traceback": [
            "\u001b[0;31m---------------------------------------------------------------------------\u001b[0m",
            "\u001b[0;31mLinAlgError\u001b[0m                               Traceback (most recent call last)",
            "\u001b[0;32m<ipython-input-680-6de9e8b0e83c>\u001b[0m in \u001b[0;36m<module>\u001b[0;34m()\u001b[0m\n\u001b[1;32m      3\u001b[0m \u001b[0mdf_for_ml_n2\u001b[0m \u001b[0;34m=\u001b[0m \u001b[0mnp\u001b[0m\u001b[0;34m.\u001b[0m\u001b[0masarray\u001b[0m\u001b[0;34m(\u001b[0m\u001b[0mdf_for_ml_n2\u001b[0m\u001b[0;34m,\u001b[0m \u001b[0mdtype\u001b[0m\u001b[0;34m=\u001b[0m\u001b[0mfloat\u001b[0m\u001b[0;34m)\u001b[0m\u001b[0;34m\u001b[0m\u001b[0;34m\u001b[0m\u001b[0m\n\u001b[1;32m      4\u001b[0m \u001b[0mmodel2\u001b[0m \u001b[0;34m=\u001b[0m \u001b[0mLogit\u001b[0m\u001b[0;34m(\u001b[0m\u001b[0menstD\u001b[0m\u001b[0;34m,\u001b[0m \u001b[0mdf_for_ml_n2\u001b[0m\u001b[0;34m,\u001b[0m \u001b[0mcheck_rank\u001b[0m\u001b[0;34m=\u001b[0m\u001b[0;32mTrue\u001b[0m\u001b[0;34m,\u001b[0m \u001b[0;34m)\u001b[0m\u001b[0;34m\u001b[0m\u001b[0;34m\u001b[0m\u001b[0m\n\u001b[0;32m----> 5\u001b[0;31m \u001b[0mprobit_model2\u001b[0m \u001b[0;34m=\u001b[0m \u001b[0mmodel2\u001b[0m\u001b[0;34m.\u001b[0m\u001b[0mfit\u001b[0m\u001b[0;34m(\u001b[0m\u001b[0;34m)\u001b[0m\u001b[0;34m\u001b[0m\u001b[0;34m\u001b[0m\u001b[0m\n\u001b[0m\u001b[1;32m      6\u001b[0m \u001b[0mprint\u001b[0m\u001b[0;34m(\u001b[0m\u001b[0mprobit_model2\u001b[0m\u001b[0;34m.\u001b[0m\u001b[0msummary\u001b[0m\u001b[0;34m(\u001b[0m\u001b[0;34m)\u001b[0m\u001b[0;34m)\u001b[0m\u001b[0;34m\u001b[0m\u001b[0;34m\u001b[0m\u001b[0m\n",
            "\u001b[0;32m/usr/local/lib/python3.7/dist-packages/statsmodels/discrete/discrete_model.py\u001b[0m in \u001b[0;36mfit\u001b[0;34m(self, start_params, method, maxiter, full_output, disp, callback, **kwargs)\u001b[0m\n\u001b[1;32m   1900\u001b[0m         bnryfit = super(Logit, self).fit(start_params=start_params,\n\u001b[1;32m   1901\u001b[0m                 \u001b[0mmethod\u001b[0m\u001b[0;34m=\u001b[0m\u001b[0mmethod\u001b[0m\u001b[0;34m,\u001b[0m \u001b[0mmaxiter\u001b[0m\u001b[0;34m=\u001b[0m\u001b[0mmaxiter\u001b[0m\u001b[0;34m,\u001b[0m \u001b[0mfull_output\u001b[0m\u001b[0;34m=\u001b[0m\u001b[0mfull_output\u001b[0m\u001b[0;34m,\u001b[0m\u001b[0;34m\u001b[0m\u001b[0;34m\u001b[0m\u001b[0m\n\u001b[0;32m-> 1902\u001b[0;31m                 disp=disp, callback=callback, **kwargs)\n\u001b[0m\u001b[1;32m   1903\u001b[0m \u001b[0;34m\u001b[0m\u001b[0m\n\u001b[1;32m   1904\u001b[0m         \u001b[0mdiscretefit\u001b[0m \u001b[0;34m=\u001b[0m \u001b[0mLogitResults\u001b[0m\u001b[0;34m(\u001b[0m\u001b[0mself\u001b[0m\u001b[0;34m,\u001b[0m \u001b[0mbnryfit\u001b[0m\u001b[0;34m)\u001b[0m\u001b[0;34m\u001b[0m\u001b[0;34m\u001b[0m\u001b[0m\n",
            "\u001b[0;32m/usr/local/lib/python3.7/dist-packages/statsmodels/discrete/discrete_model.py\u001b[0m in \u001b[0;36mfit\u001b[0;34m(self, start_params, method, maxiter, full_output, disp, callback, **kwargs)\u001b[0m\n\u001b[1;32m    215\u001b[0m         mlefit = super(DiscreteModel, self).fit(start_params=start_params,\n\u001b[1;32m    216\u001b[0m                 \u001b[0mmethod\u001b[0m\u001b[0;34m=\u001b[0m\u001b[0mmethod\u001b[0m\u001b[0;34m,\u001b[0m \u001b[0mmaxiter\u001b[0m\u001b[0;34m=\u001b[0m\u001b[0mmaxiter\u001b[0m\u001b[0;34m,\u001b[0m \u001b[0mfull_output\u001b[0m\u001b[0;34m=\u001b[0m\u001b[0mfull_output\u001b[0m\u001b[0;34m,\u001b[0m\u001b[0;34m\u001b[0m\u001b[0;34m\u001b[0m\u001b[0m\n\u001b[0;32m--> 217\u001b[0;31m                 disp=disp, callback=callback, **kwargs)\n\u001b[0m\u001b[1;32m    218\u001b[0m \u001b[0;34m\u001b[0m\u001b[0m\n\u001b[1;32m    219\u001b[0m         \u001b[0;32mreturn\u001b[0m \u001b[0mmlefit\u001b[0m \u001b[0;31m# up to subclasses to wrap results\u001b[0m\u001b[0;34m\u001b[0m\u001b[0;34m\u001b[0m\u001b[0m\n",
            "\u001b[0;32m/usr/local/lib/python3.7/dist-packages/statsmodels/base/model.py\u001b[0m in \u001b[0;36mfit\u001b[0;34m(self, start_params, method, maxiter, full_output, disp, fargs, callback, retall, skip_hessian, **kwargs)\u001b[0m\n\u001b[1;32m    475\u001b[0m             \u001b[0mHinv\u001b[0m \u001b[0;34m=\u001b[0m \u001b[0mcov_params_func\u001b[0m\u001b[0;34m(\u001b[0m\u001b[0mself\u001b[0m\u001b[0;34m,\u001b[0m \u001b[0mxopt\u001b[0m\u001b[0;34m,\u001b[0m \u001b[0mretvals\u001b[0m\u001b[0;34m)\u001b[0m\u001b[0;34m\u001b[0m\u001b[0;34m\u001b[0m\u001b[0m\n\u001b[1;32m    476\u001b[0m         \u001b[0;32melif\u001b[0m \u001b[0mmethod\u001b[0m \u001b[0;34m==\u001b[0m \u001b[0;34m'newton'\u001b[0m \u001b[0;32mand\u001b[0m \u001b[0mfull_output\u001b[0m\u001b[0;34m:\u001b[0m\u001b[0;34m\u001b[0m\u001b[0;34m\u001b[0m\u001b[0m\n\u001b[0;32m--> 477\u001b[0;31m             \u001b[0mHinv\u001b[0m \u001b[0;34m=\u001b[0m \u001b[0mnp\u001b[0m\u001b[0;34m.\u001b[0m\u001b[0mlinalg\u001b[0m\u001b[0;34m.\u001b[0m\u001b[0minv\u001b[0m\u001b[0;34m(\u001b[0m\u001b[0;34m-\u001b[0m\u001b[0mretvals\u001b[0m\u001b[0;34m[\u001b[0m\u001b[0;34m'Hessian'\u001b[0m\u001b[0;34m]\u001b[0m\u001b[0;34m)\u001b[0m \u001b[0;34m/\u001b[0m \u001b[0mnobs\u001b[0m\u001b[0;34m\u001b[0m\u001b[0;34m\u001b[0m\u001b[0m\n\u001b[0m\u001b[1;32m    478\u001b[0m         \u001b[0;32melif\u001b[0m \u001b[0;32mnot\u001b[0m \u001b[0mskip_hessian\u001b[0m\u001b[0;34m:\u001b[0m\u001b[0;34m\u001b[0m\u001b[0;34m\u001b[0m\u001b[0m\n\u001b[1;32m    479\u001b[0m             \u001b[0mH\u001b[0m \u001b[0;34m=\u001b[0m \u001b[0;34m-\u001b[0m\u001b[0;36m1\u001b[0m \u001b[0;34m*\u001b[0m \u001b[0mself\u001b[0m\u001b[0;34m.\u001b[0m\u001b[0mhessian\u001b[0m\u001b[0;34m(\u001b[0m\u001b[0mxopt\u001b[0m\u001b[0;34m)\u001b[0m\u001b[0;34m\u001b[0m\u001b[0;34m\u001b[0m\u001b[0m\n",
            "\u001b[0;32m<__array_function__ internals>\u001b[0m in \u001b[0;36minv\u001b[0;34m(*args, **kwargs)\u001b[0m\n",
            "\u001b[0;32m/usr/local/lib/python3.7/dist-packages/numpy/linalg/linalg.py\u001b[0m in \u001b[0;36minv\u001b[0;34m(a)\u001b[0m\n\u001b[1;32m    544\u001b[0m     \u001b[0msignature\u001b[0m \u001b[0;34m=\u001b[0m \u001b[0;34m'D->D'\u001b[0m \u001b[0;32mif\u001b[0m \u001b[0misComplexType\u001b[0m\u001b[0;34m(\u001b[0m\u001b[0mt\u001b[0m\u001b[0;34m)\u001b[0m \u001b[0;32melse\u001b[0m \u001b[0;34m'd->d'\u001b[0m\u001b[0;34m\u001b[0m\u001b[0;34m\u001b[0m\u001b[0m\n\u001b[1;32m    545\u001b[0m     \u001b[0mextobj\u001b[0m \u001b[0;34m=\u001b[0m \u001b[0mget_linalg_error_extobj\u001b[0m\u001b[0;34m(\u001b[0m\u001b[0m_raise_linalgerror_singular\u001b[0m\u001b[0;34m)\u001b[0m\u001b[0;34m\u001b[0m\u001b[0;34m\u001b[0m\u001b[0m\n\u001b[0;32m--> 546\u001b[0;31m     \u001b[0mainv\u001b[0m \u001b[0;34m=\u001b[0m \u001b[0m_umath_linalg\u001b[0m\u001b[0;34m.\u001b[0m\u001b[0minv\u001b[0m\u001b[0;34m(\u001b[0m\u001b[0ma\u001b[0m\u001b[0;34m,\u001b[0m \u001b[0msignature\u001b[0m\u001b[0;34m=\u001b[0m\u001b[0msignature\u001b[0m\u001b[0;34m,\u001b[0m \u001b[0mextobj\u001b[0m\u001b[0;34m=\u001b[0m\u001b[0mextobj\u001b[0m\u001b[0;34m)\u001b[0m\u001b[0;34m\u001b[0m\u001b[0;34m\u001b[0m\u001b[0m\n\u001b[0m\u001b[1;32m    547\u001b[0m     \u001b[0;32mreturn\u001b[0m \u001b[0mwrap\u001b[0m\u001b[0;34m(\u001b[0m\u001b[0mainv\u001b[0m\u001b[0;34m.\u001b[0m\u001b[0mastype\u001b[0m\u001b[0;34m(\u001b[0m\u001b[0mresult_t\u001b[0m\u001b[0;34m,\u001b[0m \u001b[0mcopy\u001b[0m\u001b[0;34m=\u001b[0m\u001b[0;32mFalse\u001b[0m\u001b[0;34m)\u001b[0m\u001b[0;34m)\u001b[0m\u001b[0;34m\u001b[0m\u001b[0;34m\u001b[0m\u001b[0m\n\u001b[1;32m    548\u001b[0m \u001b[0;34m\u001b[0m\u001b[0m\n",
            "\u001b[0;32m/usr/local/lib/python3.7/dist-packages/numpy/linalg/linalg.py\u001b[0m in \u001b[0;36m_raise_linalgerror_singular\u001b[0;34m(err, flag)\u001b[0m\n\u001b[1;32m     86\u001b[0m \u001b[0;34m\u001b[0m\u001b[0m\n\u001b[1;32m     87\u001b[0m \u001b[0;32mdef\u001b[0m \u001b[0m_raise_linalgerror_singular\u001b[0m\u001b[0;34m(\u001b[0m\u001b[0merr\u001b[0m\u001b[0;34m,\u001b[0m \u001b[0mflag\u001b[0m\u001b[0;34m)\u001b[0m\u001b[0;34m:\u001b[0m\u001b[0;34m\u001b[0m\u001b[0;34m\u001b[0m\u001b[0m\n\u001b[0;32m---> 88\u001b[0;31m     \u001b[0;32mraise\u001b[0m \u001b[0mLinAlgError\u001b[0m\u001b[0;34m(\u001b[0m\u001b[0;34m\"Singular matrix\"\u001b[0m\u001b[0;34m)\u001b[0m\u001b[0;34m\u001b[0m\u001b[0;34m\u001b[0m\u001b[0m\n\u001b[0m\u001b[1;32m     89\u001b[0m \u001b[0;34m\u001b[0m\u001b[0m\n\u001b[1;32m     90\u001b[0m \u001b[0;32mdef\u001b[0m \u001b[0m_raise_linalgerror_nonposdef\u001b[0m\u001b[0;34m(\u001b[0m\u001b[0merr\u001b[0m\u001b[0;34m,\u001b[0m \u001b[0mflag\u001b[0m\u001b[0;34m)\u001b[0m\u001b[0;34m:\u001b[0m\u001b[0;34m\u001b[0m\u001b[0;34m\u001b[0m\u001b[0m\n",
            "\u001b[0;31mLinAlgError\u001b[0m: Singular matrix"
          ]
        }
      ]
    },
    {
      "cell_type": "markdown",
      "metadata": {
        "id": "hoEs1KJ_PauU"
      },
      "source": [
        "> ## **Profil  for UEH**"
      ]
    },
    {
      "cell_type": "code",
      "metadata": {
        "id": "PqDru4lPlNZ3"
      },
      "source": [
        "uehD = data[(data['inscri/ueh'] == 1)]['admission/ueh']\n",
        "uehD_df = data[(data['inscri/ueh'] == 1)]"
      ],
      "execution_count": 682,
      "outputs": []
    },
    {
      "cell_type": "code",
      "metadata": {
        "id": "vGseD6-LbRnH"
      },
      "source": [
        "df_for_ml_n3 = uehD_df[['moyenne',]]"
      ],
      "execution_count": 683,
      "outputs": []
    },
    {
      "cell_type": "code",
      "metadata": {
        "id": "S3ZTQ8yCbWv_"
      },
      "source": [
        "for el in list_for_ml:\n",
        "  new_df = pd.get_dummies(uehD_df[[el]], prefix=None, prefix_sep='')\n",
        "  df_for_ml_n3 = pd.concat([df_for_ml_n3, new_df.iloc[:,:-1]], axis=1,)\n"
      ],
      "execution_count": 684,
      "outputs": []
    },
    {
      "cell_type": "code",
      "metadata": {
        "id": "gae2bWeLdpAL"
      },
      "source": [
        "df_for_ml_n3 = pd.concat([uehD, df_for_ml_n3], axis=1,)"
      ],
      "execution_count": 685,
      "outputs": []
    },
    {
      "cell_type": "code",
      "metadata": {
        "id": "2TgVb5bZ2SZB",
        "colab": {
          "base_uri": "https://localhost:8080/"
        },
        "outputId": "b444973d-c167-4ca4-94c9-2153ba50a694"
      },
      "source": [
        "df_for_ml_n3.drop_duplicates(inplace=True)\n",
        "print(len(df_for_ml_n3))"
      ],
      "execution_count": 686,
      "outputs": [
        {
          "output_type": "stream",
          "name": "stdout",
          "text": [
            "114\n"
          ]
        }
      ]
    },
    {
      "cell_type": "code",
      "metadata": {
        "id": "VRcSYQX-2eHI"
      },
      "source": [
        "uehD = np.asarray(df_for_ml_n3['admission/ueh'])\n",
        "df_for_ml_n3 = df_for_ml_n3.drop(columns=[\"admission/ueh\"])"
      ],
      "execution_count": 687,
      "outputs": []
    },
    {
      "cell_type": "code",
      "metadata": {
        "id": "Q1PaUgxzbbr6",
        "colab": {
          "base_uri": "https://localhost:8080/"
        },
        "outputId": "64678c54-e2a8-4cba-c583-069317e41eec"
      },
      "source": [
        "df_for_ml_n3 = np.asarray(df_for_ml_n3, dtype=float)\n",
        "uehD = np.asarray(uehD)\n",
        "model3 = Logit(uehD, df_for_ml_n3, check_rank=False, )\n",
        "probit_model3 = model3.fit()\n",
        "print(probit_model3.summary())"
      ],
      "execution_count": 688,
      "outputs": [
        {
          "output_type": "stream",
          "name": "stdout",
          "text": [
            "Warning: Maximum number of iterations has been exceeded.\n",
            "         Current function value: 0.165268\n",
            "         Iterations: 35\n",
            "                           Logit Regression Results                           \n",
            "==============================================================================\n",
            "Dep. Variable:                      y   No. Observations:                  114\n",
            "Model:                          Logit   Df Residuals:                       96\n",
            "Method:                           MLE   Df Model:                           17\n",
            "Date:                Sat, 25 Sep 2021   Pseudo R-squ.:                  0.4016\n",
            "Time:                        17:21:46   Log-Likelihood:                -18.841\n",
            "converged:                      False   LL-Null:                       -31.486\n",
            "Covariance Type:            nonrobust   LLR p-value:                   0.08840\n",
            "==============================================================================\n",
            "                 coef    std err          z      P>|z|      [0.025      0.975]\n",
            "------------------------------------------------------------------------------\n",
            "x1             0.0502      0.207      0.242      0.808      -0.356       0.456\n",
            "x2            20.5667   1.29e+04      0.002      0.999   -2.54e+04    2.54e+04\n",
            "x3            16.9596   3.67e+04      0.000      1.000    -7.2e+04     7.2e+04\n",
            "x4             0.6141      1.430      0.430      0.668      -2.188       3.416\n",
            "x5            -3.0573      2.085     -1.466      0.143      -7.144       1.029\n",
            "x6             1.6396      1.485      1.104      0.269      -1.270       4.550\n",
            "x7             2.0198      1.828      1.105      0.269      -1.562       5.602\n",
            "x8            14.3634   6513.837      0.002      0.998   -1.28e+04    1.28e+04\n",
            "x9             0.6623      1.152      0.575      0.565      -1.595       2.920\n",
            "x10          -24.4779   1.29e+04     -0.002      0.998   -2.54e+04    2.53e+04\n",
            "x11           -1.8756      1.857     -1.010      0.313      -5.516       1.765\n",
            "x12           -0.3770        nan        nan        nan         nan         nan\n",
            "x13           -2.1277        nan        nan        nan         nan         nan\n",
            "x14            0.4669        nan        nan        nan         nan         nan\n",
            "x15            8.3297        nan        nan        nan         nan         nan\n",
            "x16            0.6826   9.29e+07   7.35e-09      1.000   -1.82e+08    1.82e+08\n",
            "x17            1.0532      1.587      0.664      0.507      -2.058       4.164\n",
            "x18            3.2841      1.686      1.948      0.051      -0.020       6.588\n",
            "x19           -0.3770        nan        nan        nan         nan         nan\n",
            "x20           -2.1277        nan        nan        nan         nan         nan\n",
            "x21            0.4669        nan        nan        nan         nan         nan\n",
            "x22            8.3297        nan        nan        nan         nan         nan\n",
            "x23            0.6826   9.29e+07   7.35e-09      1.000   -1.82e+08    1.82e+08\n",
            "==============================================================================\n",
            "\n",
            "Possibly complete quasi-separation: A fraction 0.31 of observations can be\n",
            "perfectly predicted. This might indicate that there is complete\n",
            "quasi-separation. In this case some parameters will not be identified.\n"
          ]
        },
        {
          "output_type": "stream",
          "name": "stderr",
          "text": [
            "/usr/local/lib/python3.7/dist-packages/statsmodels/base/model.py:512: ConvergenceWarning: Maximum Likelihood optimization failed to converge. Check mle_retvals\n",
            "  \"Check mle_retvals\", ConvergenceWarning)\n",
            "/usr/local/lib/python3.7/dist-packages/statsmodels/base/model.py:1286: RuntimeWarning: invalid value encountered in sqrt\n",
            "  bse_ = np.sqrt(np.diag(self.cov_params()))\n"
          ]
        }
      ]
    },
    {
      "cell_type": "code",
      "metadata": {
        "id": "ZN-rmAepbfon",
        "colab": {
          "base_uri": "https://localhost:8080/"
        },
        "outputId": "17f0c0c7-464e-4be0-a241-09c4c6f1b2bb"
      },
      "source": [
        "probit_model3.pred_table()"
      ],
      "execution_count": 689,
      "outputs": [
        {
          "output_type": "execute_result",
          "data": {
            "text/plain": [
              "array([[  4.,   5.],\n",
              "       [  1., 104.]])"
            ]
          },
          "metadata": {},
          "execution_count": 689
        }
      ]
    },
    {
      "cell_type": "code",
      "metadata": {
        "colab": {
          "base_uri": "https://localhost:8080/"
        },
        "id": "ohq8bN9nND8N",
        "outputId": "1c5e4128-e346-4449-b601-4879b2f58196"
      },
      "source": [
        "print(\"Accuracy : \",round((4+104)*100/(4+104+5+1),2),\" %\")\n",
        "print(\"Recall : \",round((104)*100/(104+1),2),\" %\")\n",
        "print(\"Precision : \",round((104)*100/(104+5),2),\" %\")"
      ],
      "execution_count": 700,
      "outputs": [
        {
          "output_type": "stream",
          "name": "stdout",
          "text": [
            "Accuracy :  94.74  %\n",
            "Recall :  99.05  %\n",
            "Precision :  95.41  %\n"
          ]
        }
      ]
    },
    {
      "cell_type": "markdown",
      "metadata": {
        "id": "IUywflAl9L3W"
      },
      "source": [
        "# Reflections\n",
        "## Summary of Data Analysis\n",
        "- What insights should the user takeaway from EDA.\n",
        "\n",
        "## Questions unanswered\n",
        "- What aspects of the research question were we unable to answer and why?\n",
        "> Perform a regression prediction on universities because we dont have data of all persons who tried to integrated these universities\n",
        "\n",
        "## Recommendations\n",
        "- What should the reader do next with this information?\n",
        "> North Departement need a University when we refer to the origin of students\n",
        "> 0.3018867924528302 It's the proportion des etudiants non originaire de l'\\Ouest qui y viennent juste pour l'universite\n",
        "Artibonite    0.2500\n",
        "Nord          0.1875\n",
        "Nord-Est      0.1875\n",
        "Nord-Ouest    0.1250\n",
        "Centre        0.1250\n",
        "Sud           0.1250\n",
        "Artibonite, Nord and Nord-Ouest are the most concerned\n",
        "## Next Steps\n",
        "- What will the analyst do next based on the analysis?"
      ]
    },
    {
      "cell_type": "code",
      "metadata": {
        "id": "v1aUlXGXVMd8"
      },
      "source": [
        "#Notes analysis\n",
        "\n",
        "#for each entity, quel comportment adopter.\n",
        "\n",
        "# yCTPEA = 1 si admis 0 sinon\n",
        "# yENST = 1 si admis 0 sinon\n",
        "# yUEH = 1 si admis 0 sinon\n",
        "\n",
        "# ANALYSE I\n",
        "# realiser une regression logistique pour chaque entite\n",
        "# analyser la matrice de confusion\n",
        "# analyser les coefficients\n",
        "\n",
        "\n",
        "#Notes coding\n",
        "\n",
        "#Set the background for visualizations\n",
        "#Set the title size\n",
        "#Set the colors to use"
      ],
      "execution_count": 690,
      "outputs": []
    },
    {
      "cell_type": "code",
      "metadata": {
        "id": "Udo8KbPFVJLE",
        "colab": {
          "base_uri": "https://localhost:8080/"
        },
        "outputId": "d8fd4742-5bc6-41e3-d774-d2e95b932524"
      },
      "source": [
        "print(insights)"
      ],
      "execution_count": 691,
      "outputs": [
        {
          "output_type": "stream",
          "name": "stdout",
          "text": [
            "Le lien du questionnaire a ete touche par 161 repondants, dont 152 universitaires.\n",
            "Parmis ces 152 universitaires, 151 ont accepter de participer a l'enquete.\n",
            "Ce qui correspond a un taux de reponse de 0.993421052631579\n",
            "Les analyses qui suivront concernent donc 151 universitaires.\n",
            "\n",
            "UEH students take 0 to 4 years before integrate itCTPEA students take 0 to 3 years before integrate itENST students take 0 to 3 years before integrate itTotal subscriptions are 239.0Test Khi square of independance betwenn the Univesity and the educational system.\n",
            "We reject the null Hypothesis of independance between nom_univ1 and system .\n",
            "Test Khi square of independance betwenn the Univesity and the educational system.\n",
            "We reject the null Hypothesis of independance between nom_univ1 and filiere .\n",
            "Test Khi square of independance betwenn the Univesity and the educational system.\n",
            "We reject the null Hypothesis of independance between nom_univ1 and section .\n",
            "Test Khi square of independance betwenn the Univesity and the educational system.\n",
            "The data don't give us enough informations to say that nom_univ1 and let_level are dependant.\n",
            "Test Khi square of independance betwenn the Univesity and the educational system.\n",
            "The data don't give us enough informations to say that nom_univ1 and parent_revenu are dependant.\n",
            "Test Khi square of independance betwenn the Univesity and the educational system.\n",
            "The data don't give us enough informations to say that nom_univ1 and parent_revenu are dependant.\n",
            "\n"
          ]
        }
      ]
    }
  ]
}